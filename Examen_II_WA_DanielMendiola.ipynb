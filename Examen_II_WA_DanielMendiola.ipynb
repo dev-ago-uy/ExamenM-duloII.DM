{
  "nbformat": 4,
  "nbformat_minor": 0,
  "metadata": {
    "colab": {
      "provenance": [],
      "toc_visible": true,
      "authorship_tag": "ABX9TyPg6cftsf3UWgZWouBE+gkH",
      "include_colab_link": true
    },
    "kernelspec": {
      "name": "python3",
      "display_name": "Python 3"
    },
    "language_info": {
      "name": "python"
    }
  },
  "cells": [
    {
      "cell_type": "markdown",
      "metadata": {
        "id": "view-in-github",
        "colab_type": "text"
      },
      "source": [
        "<a href=\"https://colab.research.google.com/github/dev-ago-uy/ExamenM-duloII.DM/blob/main/Examen_II_WA_DanielMendiola.ipynb\" target=\"_parent\"><img src=\"https://colab.research.google.com/assets/colab-badge.svg\" alt=\"Open In Colab\"/></a>"
      ]
    },
    {
      "cell_type": "markdown",
      "source": [
        "# Examen Práctico II – Predicción de Precios de Propiedades\n"
      ],
      "metadata": {
        "id": "MPur-IIiJVgh"
      }
    },
    {
      "cell_type": "markdown",
      "source": [
        "* Fecha de ejecución: Junio 2025"
      ],
      "metadata": {
        "id": "L13kfIM0JmV4"
      }
    },
    {
      "cell_type": "markdown",
      "source": [
        "# Autor\n",
        "\n",
        "Ing. Daniel Mendiola\n",
        "\n",
        "\n",
        "\n",
        "**Objetivo**\n",
        "\n",
        "Predecir el precio de casas utilizando un dataset provisto (disponible en GitHub). Aunque el dataset original contiene imágenes, no es necesario utilizarlas para este examen.\n",
        "\n",
        "Fecha: Junio 2025"
      ],
      "metadata": {
        "id": "brlpfWPWloay"
      }
    },
    {
      "cell_type": "markdown",
      "source": [
        "# Datos\n",
        "\n",
        "x : https://raw.githubusercontent.com/AnIsAsPe/WA_ModuloII_DatosExamen/refs/heads/main/Datos/X.csv\n",
        "\n",
        "y : https://raw.githubusercontent.com/AnIsAsPe/WA_ModuloII_DatosExamen/refs/heads/main/Datos/y.csv\n",
        "\n",
        "\n"
      ],
      "metadata": {
        "id": "qBs0B71-opR9"
      }
    },
    {
      "cell_type": "markdown",
      "source": [
        "# Introducción\n",
        "\n"
      ],
      "metadata": {
        "id": "5yvTsNPjr2d-"
      }
    },
    {
      "cell_type": "markdown",
      "source": [
        "**Predicción del precio de propiedades a partir de características estructurales y energéticas**\n",
        "\n",
        "Este notebook tiene como objetivo desarrollar y evaluar un modelo de aprendizaje automático capaz de predecir el precio de viviendas, utilizando información tabular relacionada con sus características físicas, energéticas y de localización.\n",
        "\n",
        "Durante el proceso se abordarán las siguientes etapas:\n",
        "\n",
        "- Exploración y limpieza del dataset: detección de valores faltantes, análisis de variables numéricas y categóricas.\n",
        "- Análisis de correlaciones: para identificar las variables más influyentes en el precio.\n",
        "- Ingeniería de variables: selección, escalado y generación opcional de componentes polinomiales.\n",
        "- Entrenamiento de modelos: se implementará una regresión lineal base y un modelo de regresión robusta (Huber) para comparar resultados.\n",
        "- Evaluación y visualización: mediante métricas como R², MAE y análisis gráfico de predicciones.\n",
        "- Interpretación de resultados: se valorará la precisión y la robustez frente a valores extremos, sin perder interpretabilidad.\n",
        "\n",
        "El foco estará puesto en construir un modelo predictivo confiable y explicativo, capaz de capturar patrones del mercado inmobiliario en función de las variables disponibles.\n"
      ],
      "metadata": {
        "id": "aL5TSqtKEQ7i"
      }
    },
    {
      "cell_type": "markdown",
      "source": [
        "# Diccionario de Términos"
      ],
      "metadata": {
        "id": "t5yV5TwiFKIJ"
      }
    },
    {
      "cell_type": "markdown",
      "source": [
        "A continuación se presenta un glosario breve de los términos clave utilizados en el desarrollo del modelo:\n",
        "\n",
        "- **Regresión Lineal**: Técnica estadística que modela la relación entre una variable dependiente (precio) y una o más variables independientes mediante una línea recta.\n",
        "\n",
        "- **Regresión de Huber**: Variante robusta de la regresión lineal que reduce la sensibilidad a valores atípicos (outliers), combinando la función de pérdida cuadrática con la lineal.\n",
        "\n",
        "- **R² (Coeficiente de determinación)**: Mide qué proporción de la varianza de la variable objetivo es explicada por el modelo. Un valor cercano a 1 indica buen ajuste.\n",
        "\n",
        "- **MAE (Mean Absolute Error)**: Error absoluto medio. Indica cuánto se equivoca en promedio el modelo al predecir, sin penalizar grandes errores.\n",
        "\n",
        "- **MSE (Mean Squared Error)**: Error cuadrático medio. Penaliza más fuertemente los errores grandes, útil para detectar dispersión.\n",
        "\n",
        "- **Outlier**: Valor atípico que se aleja considerablemente del resto de los datos. Puede afectar negativamente los modelos sensibles.\n",
        "\n",
        "- **Imputación**: Proceso de reemplazar valores faltantes con estimaciones como la media, mediana o moda.\n",
        "\n",
        "- **Escalado (StandardScaler)**: Transformación de variables numéricas para que tengan media 0 y desviación estándar 1. Mejora el rendimiento de algunos algoritmos.\n",
        "\n",
        "- **Polinomios (PolynomialFeatures)**: Ampliación de las variables mediante términos no lineales (cuadrados, productos), útil para capturar relaciones más complejas.\n",
        "\n",
        "- **Correlación de Pearson**: Medida de la relación lineal entre dos variables. Va de -1 (correlación negativa perfecta) a +1 (positiva perfecta).\n",
        "\n",
        "- **Skewness (asimetría)**: Mide la simetría de la distribución de una variable. Un valor positivo indica una cola más larga hacia la derecha (asimetría positiva).\n",
        "\n",
        "- **Curtosis**: Mide la \"altura\" o concentración de una distribución en torno a la media. Curtosis alta indica presencia de valores extremos frecuentes.\n",
        "\n",
        "- **Modelo explicativo vs predictivo**: Un modelo explicativo busca interpretar las relaciones entre variables (como la regresión lineal), mientras que un modelo predictivo se centra en minimizar el error de predicción (como la regresión de Huber en este contexto).\n",
        "\n"
      ],
      "metadata": {
        "id": "GZxa7SXDFMuI"
      }
    },
    {
      "cell_type": "markdown",
      "source": [
        "# Paso 1: Carga de librerías y configuración"
      ],
      "metadata": {
        "id": "taGaR7LPw5zs"
      }
    },
    {
      "cell_type": "code",
      "source": [
        "import pandas as pd\n",
        "import numpy as np\n",
        "import matplotlib.pyplot as plt\n",
        "import seaborn as sns\n",
        "\n",
        "from sklearn.linear_model import LinearRegression, HuberRegressor\n",
        "from sklearn.preprocessing import StandardScaler, PolynomialFeatures\n",
        "from sklearn.metrics import mean_squared_error, mean_absolute_error, r2_score\n",
        "from sklearn.model_selection import train_test_split\n",
        "from sklearn.impute import SimpleImputer\n",
        "\n",
        "import warnings\n",
        "warnings.filterwarnings('ignore')\n",
        "\n",
        "# Solo esta línea es suficiente para el estilo visual\n",
        "sns.set_theme(style=\"whitegrid\")\n"
      ],
      "metadata": {
        "id": "kC98f1IUu2uX"
      },
      "execution_count": 3,
      "outputs": []
    },
    {
      "cell_type": "markdown",
      "source": [
        "* Explicación rápida\n",
        "\n",
        " Librería                 Propósito      \n",
        "\n",
        " *pandas, numpy*        :    Manipulación de datos                  \n",
        " *matplotlib, seaborn* :    Gráficas                               \n",
        " *sklearn.linear_model* :   Modelos de regresión                   \n",
        " *sklearn.preprocessing*:   Escalado y features polinomiales       \n",
        " *sklearn.metrics*      :   Métricas de evaluación                 \n",
        " *train_test_split*     :   División en entrenamiento y validación\n",
        " *SimpleImputer*        :   Imputación de valores faltantes        \n"
      ],
      "metadata": {
        "id": "jTKpXeysu2LJ"
      }
    },
    {
      "cell_type": "markdown",
      "source": [
        "# Paso 2: Carga de los datos y exploración"
      ],
      "metadata": {
        "id": "UyJ-6Asaw-Fq"
      }
    },
    {
      "cell_type": "code",
      "source": [
        "# -----------------------------\n",
        "#  Cargar datos desde GitHub\n",
        "# -----------------------------\n",
        "\n",
        "# URLs de los datasets\n",
        "url_x = \"https://raw.githubusercontent.com/AnIsAsPe/WA_ModuloII_DatosExamen/refs/heads/main/Datos/X.csv\"\n",
        "url_y = \"https://raw.githubusercontent.com/AnIsAsPe/WA_ModuloII_DatosExamen/refs/heads/main/Datos/y.csv\"\n",
        "\n",
        "# Lectura de datos\n",
        "X = pd.read_csv(url_x)\n",
        "y = pd.read_csv(url_y)\n",
        "\n",
        "# Mostrar las dimensiones\n",
        "print(\"Dimensiones de X:\", X.shape)\n",
        "print(\"Dimensiones de y:\", y.shape)\n"
      ],
      "metadata": {
        "colab": {
          "base_uri": "https://localhost:8080/"
        },
        "id": "I3hGi6pxxG-j",
        "outputId": "8209f564-ab89-4e6d-b250-6c5b3e633ca5"
      },
      "execution_count": 4,
      "outputs": [
        {
          "output_type": "stream",
          "name": "stdout",
          "text": [
            "Dimensiones de X: (37368, 27)\n",
            "Dimensiones de y: (37368, 2)\n"
          ]
        }
      ]
    },
    {
      "cell_type": "markdown",
      "source": [
        "# Paso 3: Limpieza y preprocesamiento"
      ],
      "metadata": {
        "id": "IeTBnmrPyZAG"
      }
    },
    {
      "cell_type": "markdown",
      "source": [
        "\n",
        "\n",
        "*   3.1. Detección de valores faltantes\n",
        "\n"
      ],
      "metadata": {
        "id": "uSiW-KrNyk10"
      }
    },
    {
      "cell_type": "code",
      "source": [
        "# -----------------------------\n",
        "#  Valores nulos\n",
        "# -----------------------------\n",
        "print(\"Valores nulos por columna:\")\n",
        "missing = X.isnull().sum()\n",
        "missing = missing[missing > 0].sort_values(ascending=False)\n",
        "display(missing)\n"
      ],
      "metadata": {
        "colab": {
          "base_uri": "https://localhost:8080/",
          "height": 447
        },
        "id": "nLQR5YL9yexO",
        "outputId": "ef01c579-30a8-480d-8885-6cf92f1190e9"
      },
      "execution_count": 6,
      "outputs": [
        {
          "output_type": "stream",
          "name": "stdout",
          "text": [
            "Valores nulos por columna:\n"
          ]
        },
        {
          "output_type": "display_data",
          "data": {
            "text/plain": [
              "exposition                     28274\n",
              "floor                          27625\n",
              "land_size                      21787\n",
              "ghg_value                      18838\n",
              "ghg_category                   18838\n",
              "energy_performance_value       18300\n",
              "energy_performance_category    18300\n",
              "nb_bathrooms                   13273\n",
              "nb_bedrooms                     2733\n",
              "nb_rooms                        1566\n",
              "size                             512\n",
              "dtype: int64"
            ],
            "text/html": [
              "<div>\n",
              "<style scoped>\n",
              "    .dataframe tbody tr th:only-of-type {\n",
              "        vertical-align: middle;\n",
              "    }\n",
              "\n",
              "    .dataframe tbody tr th {\n",
              "        vertical-align: top;\n",
              "    }\n",
              "\n",
              "    .dataframe thead th {\n",
              "        text-align: right;\n",
              "    }\n",
              "</style>\n",
              "<table border=\"1\" class=\"dataframe\">\n",
              "  <thead>\n",
              "    <tr style=\"text-align: right;\">\n",
              "      <th></th>\n",
              "      <th>0</th>\n",
              "    </tr>\n",
              "  </thead>\n",
              "  <tbody>\n",
              "    <tr>\n",
              "      <th>exposition</th>\n",
              "      <td>28274</td>\n",
              "    </tr>\n",
              "    <tr>\n",
              "      <th>floor</th>\n",
              "      <td>27625</td>\n",
              "    </tr>\n",
              "    <tr>\n",
              "      <th>land_size</th>\n",
              "      <td>21787</td>\n",
              "    </tr>\n",
              "    <tr>\n",
              "      <th>ghg_value</th>\n",
              "      <td>18838</td>\n",
              "    </tr>\n",
              "    <tr>\n",
              "      <th>ghg_category</th>\n",
              "      <td>18838</td>\n",
              "    </tr>\n",
              "    <tr>\n",
              "      <th>energy_performance_value</th>\n",
              "      <td>18300</td>\n",
              "    </tr>\n",
              "    <tr>\n",
              "      <th>energy_performance_category</th>\n",
              "      <td>18300</td>\n",
              "    </tr>\n",
              "    <tr>\n",
              "      <th>nb_bathrooms</th>\n",
              "      <td>13273</td>\n",
              "    </tr>\n",
              "    <tr>\n",
              "      <th>nb_bedrooms</th>\n",
              "      <td>2733</td>\n",
              "    </tr>\n",
              "    <tr>\n",
              "      <th>nb_rooms</th>\n",
              "      <td>1566</td>\n",
              "    </tr>\n",
              "    <tr>\n",
              "      <th>size</th>\n",
              "      <td>512</td>\n",
              "    </tr>\n",
              "  </tbody>\n",
              "</table>\n",
              "</div><br><label><b>dtype:</b> int64</label>"
            ]
          },
          "metadata": {}
        }
      ]
    },
    {
      "cell_type": "markdown",
      "source": [
        "* 3.2. Imputación de valores faltantes\n",
        "\n",
        "Usamos SimpleImputer para completar valores:\n",
        "\n",
        "\n",
        "\n",
        "1.  Media: para variables numéricas (sin sesgo fuerte)\n",
        "2.  Mediana: para variables con curtosis o skewness\n",
        "3.  Moda: para variables categóricas"
      ],
      "metadata": {
        "id": "mg71Jgfcyv1T"
      }
    },
    {
      "cell_type": "code",
      "source": [
        "# -----------------------------\n",
        "#  Imputación básica de valores nulos\n",
        "# -----------------------------\n",
        "\n",
        "# Definimos imputador numérico\n",
        "imputer = SimpleImputer(strategy='median')\n",
        "\n",
        "# Aplicamos solo a columnas numéricas\n",
        "X_imputed = X.copy()\n",
        "numeric_cols = X.select_dtypes(include=[np.number]).columns\n",
        "X_imputed[numeric_cols] = imputer.fit_transform(X[numeric_cols])\n"
      ],
      "metadata": {
        "id": "jAZkjWlQyzk6"
      },
      "execution_count": 8,
      "outputs": []
    },
    {
      "cell_type": "markdown",
      "source": [
        "* 3.3. Detección de outliers (Z-score)\n",
        "\n",
        "Usamos la regla del Z-score > 3 como indicador simple"
      ],
      "metadata": {
        "id": "lWxSLIpuzuI7"
      }
    },
    {
      "cell_type": "code",
      "source": [
        "from scipy.stats import zscore\n",
        "\n",
        "# Cálculo de Z-score\n",
        "z_scores = np.abs(zscore(X_imputed[numeric_cols]))\n",
        "outliers = (z_scores > 3).sum(axis=0)\n",
        "\n",
        "# Mostrar variables más afectadas\n",
        "print(\"Variables con más posibles outliers:\")\n",
        "display(pd.Series(outliers, index=numeric_cols).sort_values(ascending=False))\n"
      ],
      "metadata": {
        "colab": {
          "base_uri": "https://localhost:8080/",
          "height": 792
        },
        "id": "FW2C3Q_Lz0kD",
        "outputId": "5c33df07-0e94-4b20-9aeb-db328e395a85"
      },
      "execution_count": 9,
      "outputs": [
        {
          "output_type": "stream",
          "name": "stdout",
          "text": [
            "Variables con más posibles outliers:\n"
          ]
        },
        {
          "output_type": "display_data",
          "data": {
            "text/plain": [
              "has_a_garage                2013\n",
              "nb_bathrooms                1915\n",
              "has_air_conditioning        1489\n",
              "id_annonce                   625\n",
              "nb_rooms                     359\n",
              "nb_photos                    312\n",
              "nb_bedrooms                  296\n",
              "floor                        184\n",
              "size                         168\n",
              "last_floor                   143\n",
              "land_size                     75\n",
              "energy_performance_value      24\n",
              "ghg_value                     15\n",
              "upper_floors                   9\n",
              "approximate_longitude          0\n",
              "postal_code                    0\n",
              "approximate_latitude           0\n",
              "nb_parking_places              0\n",
              "nb_boxes                       0\n",
              "has_a_cellar                   0\n",
              "has_a_balcony                  0\n",
              "nb_terraces                    0\n",
              "dtype: int64"
            ],
            "text/html": [
              "<div>\n",
              "<style scoped>\n",
              "    .dataframe tbody tr th:only-of-type {\n",
              "        vertical-align: middle;\n",
              "    }\n",
              "\n",
              "    .dataframe tbody tr th {\n",
              "        vertical-align: top;\n",
              "    }\n",
              "\n",
              "    .dataframe thead th {\n",
              "        text-align: right;\n",
              "    }\n",
              "</style>\n",
              "<table border=\"1\" class=\"dataframe\">\n",
              "  <thead>\n",
              "    <tr style=\"text-align: right;\">\n",
              "      <th></th>\n",
              "      <th>0</th>\n",
              "    </tr>\n",
              "  </thead>\n",
              "  <tbody>\n",
              "    <tr>\n",
              "      <th>has_a_garage</th>\n",
              "      <td>2013</td>\n",
              "    </tr>\n",
              "    <tr>\n",
              "      <th>nb_bathrooms</th>\n",
              "      <td>1915</td>\n",
              "    </tr>\n",
              "    <tr>\n",
              "      <th>has_air_conditioning</th>\n",
              "      <td>1489</td>\n",
              "    </tr>\n",
              "    <tr>\n",
              "      <th>id_annonce</th>\n",
              "      <td>625</td>\n",
              "    </tr>\n",
              "    <tr>\n",
              "      <th>nb_rooms</th>\n",
              "      <td>359</td>\n",
              "    </tr>\n",
              "    <tr>\n",
              "      <th>nb_photos</th>\n",
              "      <td>312</td>\n",
              "    </tr>\n",
              "    <tr>\n",
              "      <th>nb_bedrooms</th>\n",
              "      <td>296</td>\n",
              "    </tr>\n",
              "    <tr>\n",
              "      <th>floor</th>\n",
              "      <td>184</td>\n",
              "    </tr>\n",
              "    <tr>\n",
              "      <th>size</th>\n",
              "      <td>168</td>\n",
              "    </tr>\n",
              "    <tr>\n",
              "      <th>last_floor</th>\n",
              "      <td>143</td>\n",
              "    </tr>\n",
              "    <tr>\n",
              "      <th>land_size</th>\n",
              "      <td>75</td>\n",
              "    </tr>\n",
              "    <tr>\n",
              "      <th>energy_performance_value</th>\n",
              "      <td>24</td>\n",
              "    </tr>\n",
              "    <tr>\n",
              "      <th>ghg_value</th>\n",
              "      <td>15</td>\n",
              "    </tr>\n",
              "    <tr>\n",
              "      <th>upper_floors</th>\n",
              "      <td>9</td>\n",
              "    </tr>\n",
              "    <tr>\n",
              "      <th>approximate_longitude</th>\n",
              "      <td>0</td>\n",
              "    </tr>\n",
              "    <tr>\n",
              "      <th>postal_code</th>\n",
              "      <td>0</td>\n",
              "    </tr>\n",
              "    <tr>\n",
              "      <th>approximate_latitude</th>\n",
              "      <td>0</td>\n",
              "    </tr>\n",
              "    <tr>\n",
              "      <th>nb_parking_places</th>\n",
              "      <td>0</td>\n",
              "    </tr>\n",
              "    <tr>\n",
              "      <th>nb_boxes</th>\n",
              "      <td>0</td>\n",
              "    </tr>\n",
              "    <tr>\n",
              "      <th>has_a_cellar</th>\n",
              "      <td>0</td>\n",
              "    </tr>\n",
              "    <tr>\n",
              "      <th>has_a_balcony</th>\n",
              "      <td>0</td>\n",
              "    </tr>\n",
              "    <tr>\n",
              "      <th>nb_terraces</th>\n",
              "      <td>0</td>\n",
              "    </tr>\n",
              "  </tbody>\n",
              "</table>\n",
              "</div><br><label><b>dtype:</b> int64</label>"
            ]
          },
          "metadata": {}
        }
      ]
    },
    {
      "cell_type": "markdown",
      "source": [
        "* 3.4. Opcional: eliminar o winsorizar outliers\n",
        "\n",
        "Podemos reemplazar los valores extremos por los percentiles 5-95 o eliminarlos."
      ],
      "metadata": {
        "id": "7kD2Fibuz-Hz"
      }
    },
    {
      "cell_type": "code",
      "source": [
        "# Winsorización por percentil 1% y 99%\n",
        "for col in numeric_cols:\n",
        "    lower = X_imputed[col].quantile(0.01)\n",
        "    upper = X_imputed[col].quantile(0.99)\n",
        "    X_imputed[col] = np.clip(X_imputed[col], lower, upper)\n"
      ],
      "metadata": {
        "id": "RqMPMtRu0EtE"
      },
      "execution_count": 13,
      "outputs": []
    },
    {
      "cell_type": "markdown",
      "source": [
        "# Paso 4: EDA y correlaciones"
      ],
      "metadata": {
        "id": "yij6tJhZ15kM"
      }
    },
    {
      "cell_type": "markdown",
      "source": [
        "* 4.1. Distribución del target (y)"
      ],
      "metadata": {
        "id": "amrWxted1-Be"
      }
    },
    {
      "cell_type": "code",
      "source": [
        "# -----------------------------\n",
        "# Distribución del precio\n",
        "# -----------------------------\n",
        "plt.figure(figsize=(8, 4))\n",
        "sns.histplot(y, kde=True, bins=40)\n",
        "plt.title(\"Distribución del Precio\")\n",
        "plt.xlabel(\"Precio\")\n",
        "plt.ylabel(\"Frecuencia\")\n",
        "plt.show()\n",
        "\n",
        "print(\"Curtosis:\", y.kurtosis())\n",
        "print(\"Skewness:\", y.skew())\n"
      ],
      "metadata": {
        "colab": {
          "base_uri": "https://localhost:8080/",
          "height": 528
        },
        "id": "6ZDuYxEj2AaF",
        "outputId": "968a4a66-3ef0-4e16-e27f-156da783761c"
      },
      "execution_count": 16,
      "outputs": [
        {
          "output_type": "display_data",
          "data": {
            "text/plain": [
              "<Figure size 800x400 with 1 Axes>"
            ],
            "image/png": "[encoded data removed]"
          },
          "metadata": {}
        },
        {
          "output_type": "stream",
          "name": "stdout",
          "text": [
            "Curtosis: id_annonce    113.931897\n",
            "price           8.329033\n",
            "dtype: float64\n",
            "Skewness: id_annonce   -9.730898\n",
            "price         2.518761\n",
            "dtype: float64\n"
          ]
        }
      ]
    },
    {
      "cell_type": "markdown",
      "source": [
        "* 4.2. Matriz de correlaciones"
      ],
      "metadata": {
        "id": "ehOCiNKx2I7o"
      }
    },
    {
      "cell_type": "code",
      "source": [
        "# Asegurarse de que y sea una Serie (1D)\n",
        "if isinstance(y, pd.DataFrame):\n",
        "    y = y.iloc[:, 0]\n",
        "\n",
        "# Unimos X con y temporalmente\n",
        "df_corr = X_imputed.copy()\n",
        "df_corr[\"precio\"] = y\n",
        "\n",
        "# Filtrar solo columnas numéricas\n",
        "df_corr_numeric = df_corr.select_dtypes(include=[np.number])\n",
        "\n",
        "# Calcular matriz de correlaciones\n",
        "corr_matrix = df_corr_numeric.corr()\n",
        "\n",
        "# Correlaciones con el precio\n",
        "correlaciones_target = corr_matrix[\"precio\"].drop(\"precio\").sort_values(ascending=False)\n",
        "\n",
        "# Mostrar\n",
        "print(\"Top correlaciones positivas:\")\n",
        "display(correlaciones_target.head(10))\n",
        "\n",
        "print(\"Top correlaciones negativas:\")\n",
        "display(correlaciones_target.tail(10))\n"
      ],
      "metadata": {
        "colab": {
          "base_uri": "https://localhost:8080/",
          "height": 814
        },
        "id": "qawlaVKM2PGw",
        "outputId": "dacf0759-ecf4-4604-e571-252ef44ee326"
      },
      "execution_count": 20,
      "outputs": [
        {
          "output_type": "stream",
          "name": "stdout",
          "text": [
            "Top correlaciones positivas:\n"
          ]
        },
        {
          "output_type": "display_data",
          "data": {
            "text/plain": [
              "id_annonce              0.896271\n",
              "nb_bathrooms            0.038300\n",
              "nb_parking_places       0.037479\n",
              "postal_code             0.037380\n",
              "approximate_latitude    0.033954\n",
              "has_a_balcony           0.028835\n",
              "floor                   0.016396\n",
              "nb_terraces             0.014683\n",
              "has_air_conditioning    0.004854\n",
              "nb_boxes                0.004642\n",
              "Name: precio, dtype: float64"
            ],
            "text/html": [
              "<div>\n",
              "<style scoped>\n",
              "    .dataframe tbody tr th:only-of-type {\n",
              "        vertical-align: middle;\n",
              "    }\n",
              "\n",
              "    .dataframe tbody tr th {\n",
              "        vertical-align: top;\n",
              "    }\n",
              "\n",
              "    .dataframe thead th {\n",
              "        text-align: right;\n",
              "    }\n",
              "</style>\n",
              "<table border=\"1\" class=\"dataframe\">\n",
              "  <thead>\n",
              "    <tr style=\"text-align: right;\">\n",
              "      <th></th>\n",
              "      <th>precio</th>\n",
              "    </tr>\n",
              "  </thead>\n",
              "  <tbody>\n",
              "    <tr>\n",
              "      <th>id_annonce</th>\n",
              "      <td>0.896271</td>\n",
              "    </tr>\n",
              "    <tr>\n",
              "      <th>nb_bathrooms</th>\n",
              "      <td>0.038300</td>\n",
              "    </tr>\n",
              "    <tr>\n",
              "      <th>nb_parking_places</th>\n",
              "      <td>0.037479</td>\n",
              "    </tr>\n",
              "    <tr>\n",
              "      <th>postal_code</th>\n",
              "      <td>0.037380</td>\n",
              "    </tr>\n",
              "    <tr>\n",
              "      <th>approximate_latitude</th>\n",
              "      <td>0.033954</td>\n",
              "    </tr>\n",
              "    <tr>\n",
              "      <th>has_a_balcony</th>\n",
              "      <td>0.028835</td>\n",
              "    </tr>\n",
              "    <tr>\n",
              "      <th>floor</th>\n",
              "      <td>0.016396</td>\n",
              "    </tr>\n",
              "    <tr>\n",
              "      <th>nb_terraces</th>\n",
              "      <td>0.014683</td>\n",
              "    </tr>\n",
              "    <tr>\n",
              "      <th>has_air_conditioning</th>\n",
              "      <td>0.004854</td>\n",
              "    </tr>\n",
              "    <tr>\n",
              "      <th>nb_boxes</th>\n",
              "      <td>0.004642</td>\n",
              "    </tr>\n",
              "  </tbody>\n",
              "</table>\n",
              "</div><br><label><b>dtype:</b> float64</label>"
            ]
          },
          "metadata": {}
        },
        {
          "output_type": "stream",
          "name": "stdout",
          "text": [
            "Top correlaciones negativas:\n"
          ]
        },
        {
          "output_type": "display_data",
          "data": {
            "text/plain": [
              "size                       -0.007765\n",
              "nb_bedrooms                -0.016456\n",
              "energy_performance_value   -0.019380\n",
              "land_size                  -0.020617\n",
              "nb_rooms                   -0.021396\n",
              "nb_photos                  -0.027109\n",
              "approximate_longitude      -0.031340\n",
              "has_a_garage               -0.043235\n",
              "last_floor                       NaN\n",
              "upper_floors                     NaN\n",
              "Name: precio, dtype: float64"
            ],
            "text/html": [
              "<div>\n",
              "<style scoped>\n",
              "    .dataframe tbody tr th:only-of-type {\n",
              "        vertical-align: middle;\n",
              "    }\n",
              "\n",
              "    .dataframe tbody tr th {\n",
              "        vertical-align: top;\n",
              "    }\n",
              "\n",
              "    .dataframe thead th {\n",
              "        text-align: right;\n",
              "    }\n",
              "</style>\n",
              "<table border=\"1\" class=\"dataframe\">\n",
              "  <thead>\n",
              "    <tr style=\"text-align: right;\">\n",
              "      <th></th>\n",
              "      <th>precio</th>\n",
              "    </tr>\n",
              "  </thead>\n",
              "  <tbody>\n",
              "    <tr>\n",
              "      <th>size</th>\n",
              "      <td>-0.007765</td>\n",
              "    </tr>\n",
              "    <tr>\n",
              "      <th>nb_bedrooms</th>\n",
              "      <td>-0.016456</td>\n",
              "    </tr>\n",
              "    <tr>\n",
              "      <th>energy_performance_value</th>\n",
              "      <td>-0.019380</td>\n",
              "    </tr>\n",
              "    <tr>\n",
              "      <th>land_size</th>\n",
              "      <td>-0.020617</td>\n",
              "    </tr>\n",
              "    <tr>\n",
              "      <th>nb_rooms</th>\n",
              "      <td>-0.021396</td>\n",
              "    </tr>\n",
              "    <tr>\n",
              "      <th>nb_photos</th>\n",
              "      <td>-0.027109</td>\n",
              "    </tr>\n",
              "    <tr>\n",
              "      <th>approximate_longitude</th>\n",
              "      <td>-0.031340</td>\n",
              "    </tr>\n",
              "    <tr>\n",
              "      <th>has_a_garage</th>\n",
              "      <td>-0.043235</td>\n",
              "    </tr>\n",
              "    <tr>\n",
              "      <th>last_floor</th>\n",
              "      <td>NaN</td>\n",
              "    </tr>\n",
              "    <tr>\n",
              "      <th>upper_floors</th>\n",
              "      <td>NaN</td>\n",
              "    </tr>\n",
              "  </tbody>\n",
              "</table>\n",
              "</div><br><label><b>dtype:</b> float64</label>"
            ]
          },
          "metadata": {}
        }
      ]
    },
    {
      "cell_type": "markdown",
      "source": [
        "* 4.3. Visualización gráfica de correlaciones"
      ],
      "metadata": {
        "id": "ctjfMhre2dDl"
      }
    },
    {
      "cell_type": "code",
      "source": [
        "# -----------------------------\n",
        "#  Mapa de calor (heatmap)\n",
        "# -----------------------------\n",
        "plt.figure(figsize=(12, 10))\n",
        "sns.heatmap(corr_matrix[numeric_cols].corr(), cmap=\"coolwarm\", annot=False, fmt=\".2f\")\n",
        "plt.title(\"Mapa de calor de correlaciones entre variables\")\n",
        "plt.show()\n"
      ],
      "metadata": {
        "colab": {
          "base_uri": "https://localhost:8080/",
          "height": 1000
        },
        "id": "i-DhXBMD2fa-",
        "outputId": "4b1fb5de-673c-4047-e593-54f84eba7214"
      },
      "execution_count": 24,
      "outputs": [
        {
          "output_type": "display_data",
          "data": {
            "text/plain": [
              "<Figure size 1200x1000 with 2 Axes>"
            ],
            "image/png": "[encoded data removed]"
          },
          "metadata": {}
        }
      ]
    },
    {
      "cell_type": "markdown",
      "source": [
        "# Paso 5: Ingeniería de Features"
      ],
      "metadata": {
        "id": "epx3o-y05dim"
      }
    },
    {
      "cell_type": "markdown",
      "source": [
        "* 5.1. Selección de variables explicativas\n",
        "\n",
        "Elegimos las variables más correlacionadas con el precio (y) que obtuve en el paso anterior.\n",
        "\n",
        "Por ejemplo, si las variables más útiles fueron:"
      ],
      "metadata": {
        "id": "BhOyR1QG5hXs"
      }
    },
    {
      "cell_type": "code",
      "source": [
        "features_seleccionadas = [\"surface\", \"bedrooms\", \"zipcode\", \"energy_consumption\", \"greenhouse_emissions\"]\n"
      ],
      "metadata": {
        "id": "7mSjVE7c5sDF"
      },
      "execution_count": 22,
      "outputs": []
    },
    {
      "cell_type": "markdown",
      "source": [
        "* 5.2. Escalado de variables (normalización)"
      ],
      "metadata": {
        "id": "Okmot2q7520a"
      }
    },
    {
      "cell_type": "code",
      "source": [
        "# -----------------------------\n",
        "#  Escalado de variables\n",
        "# -----------------------------\n",
        "from sklearn.preprocessing import StandardScaler\n",
        "\n",
        "# Ajustar esta lista a las variables más importantes\n",
        "features_seleccionadas = correlaciones_target.head(10).index.tolist()\n",
        "\n",
        "# Subconjunto de X\n",
        "X_modelo = X_imputed[features_seleccionadas].copy()\n",
        "\n",
        "# Escalado\n",
        "scaler = StandardScaler()\n",
        "X_scaled = scaler.fit_transform(X_modelo)\n",
        "\n",
        "# Convertir de nuevo a DataFrame\n",
        "X_scaled = pd.DataFrame(X_scaled, columns=features_seleccionadas)\n"
      ],
      "metadata": {
        "id": "VHBh-bHS56JM"
      },
      "execution_count": 23,
      "outputs": []
    },
    {
      "cell_type": "markdown",
      "source": [
        "* 5.3. (Opcional) Variables polinomiales"
      ],
      "metadata": {
        "id": "8xK5JUEL5-Vk"
      }
    },
    {
      "cell_type": "code",
      "source": [
        "# -----------------------------\n",
        "# Variables polinomiales (grado 2)\n",
        "# -----------------------------\n",
        "poly = PolynomialFeatures(degree=2, include_bias=False)\n",
        "X_poly = poly.fit_transform(X_scaled)\n",
        "\n",
        "# Nuevos nombres de columnas\n",
        "poly_columns = poly.get_feature_names_out(features_seleccionadas)\n",
        "\n",
        "# Convertimos a DataFrame\n",
        "X_poly = pd.DataFrame(X_poly, columns=poly_columns)\n"
      ],
      "metadata": {
        "id": "PNkIE2537RJq"
      },
      "execution_count": 26,
      "outputs": []
    },
    {
      "cell_type": "markdown",
      "source": [
        "# Paso 6: División del conjunto de datos\n",
        "\n",
        "\n",
        "Dependiendo si vas a usar X_scaled o X_poly:\n",
        "\n",
        "Usa X_scaled si querés una regresión lineal o Huber básica.\n",
        "\n",
        "Usa X_poly si vas a probar modelos polinómicos.\n"
      ],
      "metadata": {
        "id": "huq1rNU67jFx"
      }
    },
    {
      "cell_type": "markdown",
      "source": [
        "División 75 % / 25 %"
      ],
      "metadata": {
        "id": "IprFROmK7veQ"
      }
    },
    {
      "cell_type": "code",
      "source": [
        "# -----------------------------\n",
        "# División del conjunto de datos\n",
        "# -----------------------------\n",
        "# Reemplazar X_scaled por X_poly si estás usando variables polinomiales\n",
        "X_final = X_scaled  # o X_poly\n",
        "\n",
        "X_train, X_test, y_train, y_test = train_test_split(\n",
        "    X_final, y, test_size=0.25, random_state=42\n",
        ")\n",
        "\n",
        "# Confirmamos dimensiones\n",
        "print(\"Entrenamiento:\", X_train.shape, y_train.shape)\n",
        "print(\"Validación:\", X_test.shape, y_test.shape)\n"
      ],
      "metadata": {
        "colab": {
          "base_uri": "https://localhost:8080/"
        },
        "id": "AALQi93u7xpv",
        "outputId": "c0049aaa-6ea1-4406-a3a0-a57289e7c65b"
      },
      "execution_count": 28,
      "outputs": [
        {
          "output_type": "stream",
          "name": "stdout",
          "text": [
            "Entrenamiento: (28026, 10) (28026,)\n",
            "Validación: (9342, 10) (9342,)\n"
          ]
        }
      ]
    },
    {
      "cell_type": "markdown",
      "source": [
        "# Paso 7: Modelado"
      ],
      "metadata": {
        "id": "yho8nhyH8u-c"
      }
    },
    {
      "cell_type": "markdown",
      "source": [
        "* 7.1. Modelo base – Regresión Lineal"
      ],
      "metadata": {
        "id": "ixXHwXLb8z4U"
      }
    },
    {
      "cell_type": "code",
      "source": [
        "# -----------------------------\n",
        "#  Modelo base: Regresión Lineal\n",
        "# -----------------------------\n",
        "modelo_lineal = LinearRegression()\n",
        "modelo_lineal.fit(X_train, y_train)\n",
        "\n",
        "# Predicciones\n",
        "y_pred_lineal = modelo_lineal.predict(X_test)\n"
      ],
      "metadata": {
        "id": "Z4ngxqzE84Cf"
      },
      "execution_count": 29,
      "outputs": []
    },
    {
      "cell_type": "markdown",
      "source": [
        "* Evaluación"
      ],
      "metadata": {
        "id": "ds_f9ck488hD"
      }
    },
    {
      "cell_type": "code",
      "source": [
        "# -----------------------------\n",
        "# Evaluación del modelo\n",
        "# -----------------------------\n",
        "mse = mean_squared_error(y_test, y_pred_lineal)\n",
        "mae = mean_absolute_error(y_test, y_pred_lineal)\n",
        "r2 = r2_score(y_test, y_pred_lineal)\n",
        "\n",
        "print(f\" MSE: {mse:.2f}\")\n",
        "print(f\" MAE: {mae:.2f}\")\n",
        "print(f\" R²: {r2:.4f}\")\n"
      ],
      "metadata": {
        "colab": {
          "base_uri": "https://localhost:8080/"
        },
        "id": "oXPVvH_o9Aak",
        "outputId": "6f34eb41-1407-4327-fed2-1a60bfa23ae0"
      },
      "execution_count": 33,
      "outputs": [
        {
          "output_type": "stream",
          "name": "stdout",
          "text": [
            " MSE: 507169837915.07\n",
            " MAE: 136467.49\n",
            " R²: 0.7882\n"
          ]
        }
      ]
    },
    {
      "cell_type": "markdown",
      "source": [
        "* Interpretación de coeficientes"
      ],
      "metadata": {
        "id": "fPIDDft29dnl"
      }
    },
    {
      "cell_type": "code",
      "source": [
        "# -----------------------------\n",
        "# Coeficientes del modelo\n",
        "# -----------------------------\n",
        "coeficientes = pd.DataFrame({\n",
        "    \"Variable\": X_train.columns,\n",
        "    \"Coeficiente\": modelo_lineal.coef_\n",
        "}).sort_values(by=\"Coeficiente\", key=abs, ascending=False)\n",
        "\n",
        "display(coeficientes)\n"
      ],
      "metadata": {
        "colab": {
          "base_uri": "https://localhost:8080/",
          "height": 363
        },
        "id": "NCjmSfhm9hSi",
        "outputId": "7bc96eca-1e03-40ac-f908-e26493371169"
      },
      "execution_count": 34,
      "outputs": [
        {
          "output_type": "display_data",
          "data": {
            "text/plain": [
              "               Variable   Coeficiente\n",
              "0            id_annonce  1.305500e+06\n",
              "4  approximate_latitude -1.736322e+04\n",
              "9              nb_boxes  9.250075e+03\n",
              "6                 floor  3.926036e+03\n",
              "1          nb_bathrooms  3.417563e+03\n",
              "5         has_a_balcony  3.148380e+03\n",
              "3           postal_code -2.707123e+03\n",
              "8  has_air_conditioning -1.476527e+03\n",
              "2     nb_parking_places -6.821081e+02\n",
              "7           nb_terraces -4.829404e+02"
            ],
            "text/html": [
              "\n",
              "  <div id=\"df-e7557f4d-d28d-43d6-b0a1-b01cdef4e81b\" class=\"colab-df-container\">\n",
              "    <div>\n",
              "<style scoped>\n",
              "    .dataframe tbody tr th:only-of-type {\n",
              "        vertical-align: middle;\n",
              "    }\n",
              "\n",
              "    .dataframe tbody tr th {\n",
              "        vertical-align: top;\n",
              "    }\n",
              "\n",
              "    .dataframe thead th {\n",
              "        text-align: right;\n",
              "    }\n",
              "</style>\n",
              "<table border=\"1\" class=\"dataframe\">\n",
              "  <thead>\n",
              "    <tr style=\"text-align: right;\">\n",
              "      <th></th>\n",
              "      <th>Variable</th>\n",
              "      <th>Coeficiente</th>\n",
              "    </tr>\n",
              "  </thead>\n",
              "  <tbody>\n",
              "    <tr>\n",
              "      <th>0</th>\n",
              "      <td>id_annonce</td>\n",
              "      <td>1.305500e+06</td>\n",
              "    </tr>\n",
              "    <tr>\n",
              "      <th>4</th>\n",
              "      <td>approximate_latitude</td>\n",
              "      <td>-1.736322e+04</td>\n",
              "    </tr>\n",
              "    <tr>\n",
              "      <th>9</th>\n",
              "      <td>nb_boxes</td>\n",
              "      <td>9.250075e+03</td>\n",
              "    </tr>\n",
              "    <tr>\n",
              "      <th>6</th>\n",
              "      <td>floor</td>\n",
              "      <td>3.926036e+03</td>\n",
              "    </tr>\n",
              "    <tr>\n",
              "      <th>1</th>\n",
              "      <td>nb_bathrooms</td>\n",
              "      <td>3.417563e+03</td>\n",
              "    </tr>\n",
              "    <tr>\n",
              "      <th>5</th>\n",
              "      <td>has_a_balcony</td>\n",
              "      <td>3.148380e+03</td>\n",
              "    </tr>\n",
              "    <tr>\n",
              "      <th>3</th>\n",
              "      <td>postal_code</td>\n",
              "      <td>-2.707123e+03</td>\n",
              "    </tr>\n",
              "    <tr>\n",
              "      <th>8</th>\n",
              "      <td>has_air_conditioning</td>\n",
              "      <td>-1.476527e+03</td>\n",
              "    </tr>\n",
              "    <tr>\n",
              "      <th>2</th>\n",
              "      <td>nb_parking_places</td>\n",
              "      <td>-6.821081e+02</td>\n",
              "    </tr>\n",
              "    <tr>\n",
              "      <th>7</th>\n",
              "      <td>nb_terraces</td>\n",
              "      <td>-4.829404e+02</td>\n",
              "    </tr>\n",
              "  </tbody>\n",
              "</table>\n",
              "</div>\n",
              "    <div class=\"colab-df-buttons\">\n",
              "\n",
              "  <div class=\"colab-df-container\">\n",
              "    <button class=\"colab-df-convert\" onclick=\"convertToInteractive('df-e7557f4d-d28d-43d6-b0a1-b01cdef4e81b')\"\n",
              "            title=\"Convert this dataframe to an interactive table.\"\n",
              "            style=\"display:none;\">\n",
              "\n",
              "  <svg xmlns=\"http://www.w3.org/2000/svg\" height=\"24px\" viewBox=\"0 -960 960 960\">\n",
              "    <path d=\"M120-120v-720h720v720H120Zm60-500h600v-160H180v160Zm220 220h160v-160H400v160Zm0 220h160v-160H400v160ZM180-400h160v-160H180v160Zm440 0h160v-160H620v160ZM180-180h160v-160H180v160Zm440 0h160v-160H620v160Z\"/>\n",
              "  </svg>\n",
              "    </button>\n",
              "\n",
              "  <style>\n",
              "    .colab-df-container {\n",
              "      display:flex;\n",
              "      gap: 12px;\n",
              "    }\n",
              "\n",
              "    .colab-df-convert {\n",
              "      background-color: #E8F0FE;\n",
              "      border: none;\n",
              "      border-radius: 50%;\n",
              "      cursor: pointer;\n",
              "      display: none;\n",
              "      fill: #1967D2;\n",
              "      height: 32px;\n",
              "      padding: 0 0 0 0;\n",
              "      width: 32px;\n",
              "    }\n",
              "\n",
              "    .colab-df-convert:hover {\n",
              "      background-color: #E2EBFA;\n",
              "      box-shadow: 0px 1px 2px rgba(60, 64, 67, 0.3), 0px 1px 3px 1px rgba(60, 64, 67, 0.15);\n",
              "      fill: #174EA6;\n",
              "    }\n",
              "\n",
              "    .colab-df-buttons div {\n",
              "      margin-bottom: 4px;\n",
              "    }\n",
              "\n",
              "    [theme=dark] .colab-df-convert {\n",
              "      background-color: #3B4455;\n",
              "      fill: #D2E3FC;\n",
              "    }\n",
              "\n",
              "    [theme=dark] .colab-df-convert:hover {\n",
              "      background-color: #434B5C;\n",
              "      box-shadow: 0px 1px 3px 1px rgba(0, 0, 0, 0.15);\n",
              "      filter: drop-shadow(0px 1px 2px rgba(0, 0, 0, 0.3));\n",
              "      fill: #FFFFFF;\n",
              "    }\n",
              "  </style>\n",
              "\n",
              "    <script>\n",
              "      const buttonEl =\n",
              "        document.querySelector('#df-e7557f4d-d28d-43d6-b0a1-b01cdef4e81b button.colab-df-convert');\n",
              "      buttonEl.style.display =\n",
              "        google.colab.kernel.accessAllowed ? 'block' : 'none';\n",
              "\n",
              "      async function convertToInteractive(key) {\n",
              "        const element = document.querySelector('#df-e7557f4d-d28d-43d6-b0a1-b01cdef4e81b');\n",
              "        const dataTable =\n",
              "          await google.colab.kernel.invokeFunction('convertToInteractive',\n",
              "                                                    [key], {});\n",
              "        if (!dataTable) return;\n",
              "\n",
              "        const docLinkHtml = 'Like what you see? Visit the ' +\n",
              "          '<a target=\"_blank\" href=https://colab.research.google.com/notebooks/data_table.ipynb>data table notebook</a>'\n",
              "          + ' to learn more about interactive tables.';\n",
              "        element.innerHTML = '';\n",
              "        dataTable['output_type'] = 'display_data';\n",
              "        await google.colab.output.renderOutput(dataTable, element);\n",
              "        const docLink = document.createElement('div');\n",
              "        docLink.innerHTML = docLinkHtml;\n",
              "        element.appendChild(docLink);\n",
              "      }\n",
              "    </script>\n",
              "  </div>\n",
              "\n",
              "\n",
              "    <div id=\"df-171ddc1f-87aa-4757-b3f5-1ef04744b2e6\">\n",
              "      <button class=\"colab-df-quickchart\" onclick=\"quickchart('df-171ddc1f-87aa-4757-b3f5-1ef04744b2e6')\"\n",
              "                title=\"Suggest charts\"\n",
              "                style=\"display:none;\">\n",
              "\n",
              "<svg xmlns=\"http://www.w3.org/2000/svg\" height=\"24px\"viewBox=\"0 0 24 24\"\n",
              "     width=\"24px\">\n",
              "    <g>\n",
              "        <path d=\"M19 3H5c-1.1 0-2 .9-2 2v14c0 1.1.9 2 2 2h14c1.1 0 2-.9 2-2V5c0-1.1-.9-2-2-2zM9 17H7v-7h2v7zm4 0h-2V7h2v10zm4 0h-2v-4h2v4z\"/>\n",
              "    </g>\n",
              "</svg>\n",
              "      </button>\n",
              "\n",
              "<style>\n",
              "  .colab-df-quickchart {\n",
              "      --bg-color: #E8F0FE;\n",
              "      --fill-color: #1967D2;\n",
              "      --hover-bg-color: #E2EBFA;\n",
              "      --hover-fill-color: #174EA6;\n",
              "      --disabled-fill-color: #AAA;\n",
              "      --disabled-bg-color: #DDD;\n",
              "  }\n",
              "\n",
              "  [theme=dark] .colab-df-quickchart {\n",
              "      --bg-color: #3B4455;\n",
              "      --fill-color: #D2E3FC;\n",
              "      --hover-bg-color: #434B5C;\n",
              "      --hover-fill-color: #FFFFFF;\n",
              "      --disabled-bg-color: #3B4455;\n",
              "      --disabled-fill-color: #666;\n",
              "  }\n",
              "\n",
              "  .colab-df-quickchart {\n",
              "    background-color: var(--bg-color);\n",
              "    border: none;\n",
              "    border-radius: 50%;\n",
              "    cursor: pointer;\n",
              "    display: none;\n",
              "    fill: var(--fill-color);\n",
              "    height: 32px;\n",
              "    padding: 0;\n",
              "    width: 32px;\n",
              "  }\n",
              "\n",
              "  .colab-df-quickchart:hover {\n",
              "    background-color: var(--hover-bg-color);\n",
              "    box-shadow: 0 1px 2px rgba(60, 64, 67, 0.3), 0 1px 3px 1px rgba(60, 64, 67, 0.15);\n",
              "    fill: var(--button-hover-fill-color);\n",
              "  }\n",
              "\n",
              "  .colab-df-quickchart-complete:disabled,\n",
              "  .colab-df-quickchart-complete:disabled:hover {\n",
              "    background-color: var(--disabled-bg-color);\n",
              "    fill: var(--disabled-fill-color);\n",
              "    box-shadow: none;\n",
              "  }\n",
              "\n",
              "  .colab-df-spinner {\n",
              "    border: 2px solid var(--fill-color);\n",
              "    border-color: transparent;\n",
              "    border-bottom-color: var(--fill-color);\n",
              "    animation:\n",
              "      spin 1s steps(1) infinite;\n",
              "  }\n",
              "\n",
              "  @keyframes spin {\n",
              "    0% {\n",
              "      border-color: transparent;\n",
              "      border-bottom-color: var(--fill-color);\n",
              "      border-left-color: var(--fill-color);\n",
              "    }\n",
              "    20% {\n",
              "      border-color: transparent;\n",
              "      border-left-color: var(--fill-color);\n",
              "      border-top-color: var(--fill-color);\n",
              "    }\n",
              "    30% {\n",
              "      border-color: transparent;\n",
              "      border-left-color: var(--fill-color);\n",
              "      border-top-color: var(--fill-color);\n",
              "      border-right-color: var(--fill-color);\n",
              "    }\n",
              "    40% {\n",
              "      border-color: transparent;\n",
              "      border-right-color: var(--fill-color);\n",
              "      border-top-color: var(--fill-color);\n",
              "    }\n",
              "    60% {\n",
              "      border-color: transparent;\n",
              "      border-right-color: var(--fill-color);\n",
              "    }\n",
              "    80% {\n",
              "      border-color: transparent;\n",
              "      border-right-color: var(--fill-color);\n",
              "      border-bottom-color: var(--fill-color);\n",
              "    }\n",
              "    90% {\n",
              "      border-color: transparent;\n",
              "      border-bottom-color: var(--fill-color);\n",
              "    }\n",
              "  }\n",
              "</style>\n",
              "\n",
              "      <script>\n",
              "        async function quickchart(key) {\n",
              "          const quickchartButtonEl =\n",
              "            document.querySelector('#' + key + ' button');\n",
              "          quickchartButtonEl.disabled = true;  // To prevent multiple clicks.\n",
              "          quickchartButtonEl.classList.add('colab-df-spinner');\n",
              "          try {\n",
              "            const charts = await google.colab.kernel.invokeFunction(\n",
              "                'suggestCharts', [key], {});\n",
              "          } catch (error) {\n",
              "            console.error('Error during call to suggestCharts:', error);\n",
              "          }\n",
              "          quickchartButtonEl.classList.remove('colab-df-spinner');\n",
              "          quickchartButtonEl.classList.add('colab-df-quickchart-complete');\n",
              "        }\n",
              "        (() => {\n",
              "          let quickchartButtonEl =\n",
              "            document.querySelector('#df-171ddc1f-87aa-4757-b3f5-1ef04744b2e6 button');\n",
              "          quickchartButtonEl.style.display =\n",
              "            google.colab.kernel.accessAllowed ? 'block' : 'none';\n",
              "        })();\n",
              "      </script>\n",
              "    </div>\n",
              "\n",
              "  <div id=\"id_fbe99da2-1739-41b1-aca7-6944dbde3eaf\">\n",
              "    <style>\n",
              "      .colab-df-generate {\n",
              "        background-color: #E8F0FE;\n",
              "        border: none;\n",
              "        border-radius: 50%;\n",
              "        cursor: pointer;\n",
              "        display: none;\n",
              "        fill: #1967D2;\n",
              "        height: 32px;\n",
              "        padding: 0 0 0 0;\n",
              "        width: 32px;\n",
              "      }\n",
              "\n",
              "      .colab-df-generate:hover {\n",
              "        background-color: #E2EBFA;\n",
              "        box-shadow: 0px 1px 2px rgba(60, 64, 67, 0.3), 0px 1px 3px 1px rgba(60, 64, 67, 0.15);\n",
              "        fill: #174EA6;\n",
              "      }\n",
              "\n",
              "      [theme=dark] .colab-df-generate {\n",
              "        background-color: #3B4455;\n",
              "        fill: #D2E3FC;\n",
              "      }\n",
              "\n",
              "      [theme=dark] .colab-df-generate:hover {\n",
              "        background-color: #434B5C;\n",
              "        box-shadow: 0px 1px 3px 1px rgba(0, 0, 0, 0.15);\n",
              "        filter: drop-shadow(0px 1px 2px rgba(0, 0, 0, 0.3));\n",
              "        fill: #FFFFFF;\n",
              "      }\n",
              "    </style>\n",
              "    <button class=\"colab-df-generate\" onclick=\"generateWithVariable('coeficientes')\"\n",
              "            title=\"Generate code using this dataframe.\"\n",
              "            style=\"display:none;\">\n",
              "\n",
              "  <svg xmlns=\"http://www.w3.org/2000/svg\" height=\"24px\"viewBox=\"0 0 24 24\"\n",
              "       width=\"24px\">\n",
              "    <path d=\"M7,19H8.4L18.45,9,17,7.55,7,17.6ZM5,21V16.75L18.45,3.32a2,2,0,0,1,2.83,0l1.4,1.43a1.91,1.91,0,0,1,.58,1.4,1.91,1.91,0,0,1-.58,1.4L9.25,21ZM18.45,9,17,7.55Zm-12,3A5.31,5.31,0,0,0,4.9,8.1,5.31,5.31,0,0,0,1,6.5,5.31,5.31,0,0,0,4.9,4.9,5.31,5.31,0,0,0,6.5,1,5.31,5.31,0,0,0,8.1,4.9,5.31,5.31,0,0,0,12,6.5,5.46,5.46,0,0,0,6.5,12Z\"/>\n",
              "  </svg>\n",
              "    </button>\n",
              "    <script>\n",
              "      (() => {\n",
              "      const buttonEl =\n",
              "        document.querySelector('#id_fbe99da2-1739-41b1-aca7-6944dbde3eaf button.colab-df-generate');\n",
              "      buttonEl.style.display =\n",
              "        google.colab.kernel.accessAllowed ? 'block' : 'none';\n",
              "\n",
              "      buttonEl.onclick = () => {\n",
              "        google.colab.notebook.generateWithVariable('coeficientes');\n",
              "      }\n",
              "      })();\n",
              "    </script>\n",
              "  </div>\n",
              "\n",
              "    </div>\n",
              "  </div>\n"
            ],
            "application/vnd.google.colaboratory.intrinsic+json": {
              "type": "dataframe",
              "variable_name": "coeficientes",
              "summary": "{\n  \"name\": \"coeficientes\",\n  \"rows\": 10,\n  \"fields\": [\n    {\n      \"column\": \"Variable\",\n      \"properties\": {\n        \"dtype\": \"string\",\n        \"num_unique_values\": 10,\n        \"samples\": [\n          \"nb_parking_places\",\n          \"approximate_latitude\",\n          \"has_a_balcony\"\n        ],\n        \"semantic_type\": \"\",\n        \"description\": \"\"\n      }\n    },\n    {\n      \"column\": \"Coeficiente\",\n      \"properties\": {\n        \"dtype\": \"number\",\n        \"std\": 412997.8408987383,\n        \"min\": -17363.21589131858,\n        \"max\": 1305499.5395184269,\n        \"num_unique_values\": 10,\n        \"samples\": [\n          -682.1080580505161,\n          -17363.21589131858,\n          3148.3801992295694\n        ],\n        \"semantic_type\": \"\",\n        \"description\": \"\"\n      }\n    }\n  ]\n}"
            }
          },
          "metadata": {}
        }
      ]
    },
    {
      "cell_type": "markdown",
      "source": [
        "* 7.2. Modelo alternativo – Regresión de Huber"
      ],
      "metadata": {
        "id": "Ve3NjVHc-B4T"
      }
    },
    {
      "cell_type": "markdown",
      "source": [
        "* Este modelo es más robusto frente a outliers."
      ],
      "metadata": {
        "id": "1DdUDrtK-F17"
      }
    },
    {
      "cell_type": "code",
      "source": [
        "# -----------------------------\n",
        "#  Modelo alternativo: Huber\n",
        "# -----------------------------\n",
        "modelo_huber = HuberRegressor()\n",
        "modelo_huber.fit(X_train, y_train)\n",
        "\n",
        "# Predicciones\n",
        "y_pred_huber = modelo_huber.predict(X_test)\n",
        "\n",
        "# Evaluación\n",
        "print(\" Huber:\")\n",
        "print(f\"MSE: {mean_squared_error(y_test, y_pred_huber):.2f}\")\n",
        "print(f\"MAE: {mean_absolute_error(y_test, y_pred_huber):.2f}\")\n",
        "print(f\"R²: {r2_score(y_test, y_pred_huber):.4f}\")\n"
      ],
      "metadata": {
        "colab": {
          "base_uri": "https://localhost:8080/"
        },
        "id": "TPXmeosl-cRP",
        "outputId": "fe04850f-e8f0-4c1b-845a-809b4565e436"
      },
      "execution_count": 38,
      "outputs": [
        {
          "output_type": "stream",
          "name": "stdout",
          "text": [
            " Huber:\n",
            "MSE: 728952368681.85\n",
            "MAE: 65903.65\n",
            "R²: 0.6955\n"
          ]
        }
      ]
    },
    {
      "cell_type": "markdown",
      "source": [
        "# Paso 8: Comparación de resultados"
      ],
      "metadata": {
        "id": "DafB-3vA_GRR"
      }
    },
    {
      "cell_type": "markdown",
      "source": [
        "* Tabla comparativa de desempeño"
      ],
      "metadata": {
        "id": "CAGNdRRT_K0X"
      }
    },
    {
      "cell_type": "code",
      "source": [
        "# -----------------------------\n",
        "# Comparación de métricas\n",
        "# -----------------------------\n",
        "resultados = pd.DataFrame({\n",
        "    \"Modelo\": [\"Regresión Lineal\", \"Regresión Huber\"],\n",
        "    \"MSE\": [\n",
        "        mean_squared_error(y_test, y_pred_lineal),\n",
        "        mean_squared_error(y_test, y_pred_huber)\n",
        "    ],\n",
        "    \"MAE\": [\n",
        "        mean_absolute_error(y_test, y_pred_lineal),\n",
        "        mean_absolute_error(y_test, y_pred_huber)\n",
        "    ],\n",
        "    \"R²\": [\n",
        "        r2_score(y_test, y_pred_lineal),\n",
        "        r2_score(y_test, y_pred_huber)\n",
        "    ]\n",
        "})\n",
        "\n",
        "display(resultados)\n"
      ],
      "metadata": {
        "colab": {
          "base_uri": "https://localhost:8080/",
          "height": 125
        },
        "id": "PuqorlaH_Mue",
        "outputId": "8515b882-5864-4628-e6e7-104a23621354"
      },
      "execution_count": 39,
      "outputs": [
        {
          "output_type": "display_data",
          "data": {
            "text/plain": [
              "             Modelo           MSE            MAE        R²\n",
              "0  Regresión Lineal  5.071698e+11  136467.488634  0.788157\n",
              "1   Regresión Huber  7.289524e+11   65903.654652  0.695519"
            ],
            "text/html": [
              "\n",
              "  <div id=\"df-c195139b-5a36-459c-bf56-9b7a5892e6e2\" class=\"colab-df-container\">\n",
              "    <div>\n",
              "<style scoped>\n",
              "    .dataframe tbody tr th:only-of-type {\n",
              "        vertical-align: middle;\n",
              "    }\n",
              "\n",
              "    .dataframe tbody tr th {\n",
              "        vertical-align: top;\n",
              "    }\n",
              "\n",
              "    .dataframe thead th {\n",
              "        text-align: right;\n",
              "    }\n",
              "</style>\n",
              "<table border=\"1\" class=\"dataframe\">\n",
              "  <thead>\n",
              "    <tr style=\"text-align: right;\">\n",
              "      <th></th>\n",
              "      <th>Modelo</th>\n",
              "      <th>MSE</th>\n",
              "      <th>MAE</th>\n",
              "      <th>R²</th>\n",
              "    </tr>\n",
              "  </thead>\n",
              "  <tbody>\n",
              "    <tr>\n",
              "      <th>0</th>\n",
              "      <td>Regresión Lineal</td>\n",
              "      <td>5.071698e+11</td>\n",
              "      <td>136467.488634</td>\n",
              "      <td>0.788157</td>\n",
              "    </tr>\n",
              "    <tr>\n",
              "      <th>1</th>\n",
              "      <td>Regresión Huber</td>\n",
              "      <td>7.289524e+11</td>\n",
              "      <td>65903.654652</td>\n",
              "      <td>0.695519</td>\n",
              "    </tr>\n",
              "  </tbody>\n",
              "</table>\n",
              "</div>\n",
              "    <div class=\"colab-df-buttons\">\n",
              "\n",
              "  <div class=\"colab-df-container\">\n",
              "    <button class=\"colab-df-convert\" onclick=\"convertToInteractive('df-c195139b-5a36-459c-bf56-9b7a5892e6e2')\"\n",
              "            title=\"Convert this dataframe to an interactive table.\"\n",
              "            style=\"display:none;\">\n",
              "\n",
              "  <svg xmlns=\"http://www.w3.org/2000/svg\" height=\"24px\" viewBox=\"0 -960 960 960\">\n",
              "    <path d=\"M120-120v-720h720v720H120Zm60-500h600v-160H180v160Zm220 220h160v-160H400v160Zm0 220h160v-160H400v160ZM180-400h160v-160H180v160Zm440 0h160v-160H620v160ZM180-180h160v-160H180v160Zm440 0h160v-160H620v160Z\"/>\n",
              "  </svg>\n",
              "    </button>\n",
              "\n",
              "  <style>\n",
              "    .colab-df-container {\n",
              "      display:flex;\n",
              "      gap: 12px;\n",
              "    }\n",
              "\n",
              "    .colab-df-convert {\n",
              "      background-color: #E8F0FE;\n",
              "      border: none;\n",
              "      border-radius: 50%;\n",
              "      cursor: pointer;\n",
              "      display: none;\n",
              "      fill: #1967D2;\n",
              "      height: 32px;\n",
              "      padding: 0 0 0 0;\n",
              "      width: 32px;\n",
              "    }\n",
              "\n",
              "    .colab-df-convert:hover {\n",
              "      background-color: #E2EBFA;\n",
              "      box-shadow: 0px 1px 2px rgba(60, 64, 67, 0.3), 0px 1px 3px 1px rgba(60, 64, 67, 0.15);\n",
              "      fill: #174EA6;\n",
              "    }\n",
              "\n",
              "    .colab-df-buttons div {\n",
              "      margin-bottom: 4px;\n",
              "    }\n",
              "\n",
              "    [theme=dark] .colab-df-convert {\n",
              "      background-color: #3B4455;\n",
              "      fill: #D2E3FC;\n",
              "    }\n",
              "\n",
              "    [theme=dark] .colab-df-convert:hover {\n",
              "      background-color: #434B5C;\n",
              "      box-shadow: 0px 1px 3px 1px rgba(0, 0, 0, 0.15);\n",
              "      filter: drop-shadow(0px 1px 2px rgba(0, 0, 0, 0.3));\n",
              "      fill: #FFFFFF;\n",
              "    }\n",
              "  </style>\n",
              "\n",
              "    <script>\n",
              "      const buttonEl =\n",
              "        document.querySelector('#df-c195139b-5a36-459c-bf56-9b7a5892e6e2 button.colab-df-convert');\n",
              "      buttonEl.style.display =\n",
              "        google.colab.kernel.accessAllowed ? 'block' : 'none';\n",
              "\n",
              "      async function convertToInteractive(key) {\n",
              "        const element = document.querySelector('#df-c195139b-5a36-459c-bf56-9b7a5892e6e2');\n",
              "        const dataTable =\n",
              "          await google.colab.kernel.invokeFunction('convertToInteractive',\n",
              "                                                    [key], {});\n",
              "        if (!dataTable) return;\n",
              "\n",
              "        const docLinkHtml = 'Like what you see? Visit the ' +\n",
              "          '<a target=\"_blank\" href=https://colab.research.google.com/notebooks/data_table.ipynb>data table notebook</a>'\n",
              "          + ' to learn more about interactive tables.';\n",
              "        element.innerHTML = '';\n",
              "        dataTable['output_type'] = 'display_data';\n",
              "        await google.colab.output.renderOutput(dataTable, element);\n",
              "        const docLink = document.createElement('div');\n",
              "        docLink.innerHTML = docLinkHtml;\n",
              "        element.appendChild(docLink);\n",
              "      }\n",
              "    </script>\n",
              "  </div>\n",
              "\n",
              "\n",
              "    <div id=\"df-53c121eb-7e4f-4a27-919f-a448102c1f96\">\n",
              "      <button class=\"colab-df-quickchart\" onclick=\"quickchart('df-53c121eb-7e4f-4a27-919f-a448102c1f96')\"\n",
              "                title=\"Suggest charts\"\n",
              "                style=\"display:none;\">\n",
              "\n",
              "<svg xmlns=\"http://www.w3.org/2000/svg\" height=\"24px\"viewBox=\"0 0 24 24\"\n",
              "     width=\"24px\">\n",
              "    <g>\n",
              "        <path d=\"M19 3H5c-1.1 0-2 .9-2 2v14c0 1.1.9 2 2 2h14c1.1 0 2-.9 2-2V5c0-1.1-.9-2-2-2zM9 17H7v-7h2v7zm4 0h-2V7h2v10zm4 0h-2v-4h2v4z\"/>\n",
              "    </g>\n",
              "</svg>\n",
              "      </button>\n",
              "\n",
              "<style>\n",
              "  .colab-df-quickchart {\n",
              "      --bg-color: #E8F0FE;\n",
              "      --fill-color: #1967D2;\n",
              "      --hover-bg-color: #E2EBFA;\n",
              "      --hover-fill-color: #174EA6;\n",
              "      --disabled-fill-color: #AAA;\n",
              "      --disabled-bg-color: #DDD;\n",
              "  }\n",
              "\n",
              "  [theme=dark] .colab-df-quickchart {\n",
              "      --bg-color: #3B4455;\n",
              "      --fill-color: #D2E3FC;\n",
              "      --hover-bg-color: #434B5C;\n",
              "      --hover-fill-color: #FFFFFF;\n",
              "      --disabled-bg-color: #3B4455;\n",
              "      --disabled-fill-color: #666;\n",
              "  }\n",
              "\n",
              "  .colab-df-quickchart {\n",
              "    background-color: var(--bg-color);\n",
              "    border: none;\n",
              "    border-radius: 50%;\n",
              "    cursor: pointer;\n",
              "    display: none;\n",
              "    fill: var(--fill-color);\n",
              "    height: 32px;\n",
              "    padding: 0;\n",
              "    width: 32px;\n",
              "  }\n",
              "\n",
              "  .colab-df-quickchart:hover {\n",
              "    background-color: var(--hover-bg-color);\n",
              "    box-shadow: 0 1px 2px rgba(60, 64, 67, 0.3), 0 1px 3px 1px rgba(60, 64, 67, 0.15);\n",
              "    fill: var(--button-hover-fill-color);\n",
              "  }\n",
              "\n",
              "  .colab-df-quickchart-complete:disabled,\n",
              "  .colab-df-quickchart-complete:disabled:hover {\n",
              "    background-color: var(--disabled-bg-color);\n",
              "    fill: var(--disabled-fill-color);\n",
              "    box-shadow: none;\n",
              "  }\n",
              "\n",
              "  .colab-df-spinner {\n",
              "    border: 2px solid var(--fill-color);\n",
              "    border-color: transparent;\n",
              "    border-bottom-color: var(--fill-color);\n",
              "    animation:\n",
              "      spin 1s steps(1) infinite;\n",
              "  }\n",
              "\n",
              "  @keyframes spin {\n",
              "    0% {\n",
              "      border-color: transparent;\n",
              "      border-bottom-color: var(--fill-color);\n",
              "      border-left-color: var(--fill-color);\n",
              "    }\n",
              "    20% {\n",
              "      border-color: transparent;\n",
              "      border-left-color: var(--fill-color);\n",
              "      border-top-color: var(--fill-color);\n",
              "    }\n",
              "    30% {\n",
              "      border-color: transparent;\n",
              "      border-left-color: var(--fill-color);\n",
              "      border-top-color: var(--fill-color);\n",
              "      border-right-color: var(--fill-color);\n",
              "    }\n",
              "    40% {\n",
              "      border-color: transparent;\n",
              "      border-right-color: var(--fill-color);\n",
              "      border-top-color: var(--fill-color);\n",
              "    }\n",
              "    60% {\n",
              "      border-color: transparent;\n",
              "      border-right-color: var(--fill-color);\n",
              "    }\n",
              "    80% {\n",
              "      border-color: transparent;\n",
              "      border-right-color: var(--fill-color);\n",
              "      border-bottom-color: var(--fill-color);\n",
              "    }\n",
              "    90% {\n",
              "      border-color: transparent;\n",
              "      border-bottom-color: var(--fill-color);\n",
              "    }\n",
              "  }\n",
              "</style>\n",
              "\n",
              "      <script>\n",
              "        async function quickchart(key) {\n",
              "          const quickchartButtonEl =\n",
              "            document.querySelector('#' + key + ' button');\n",
              "          quickchartButtonEl.disabled = true;  // To prevent multiple clicks.\n",
              "          quickchartButtonEl.classList.add('colab-df-spinner');\n",
              "          try {\n",
              "            const charts = await google.colab.kernel.invokeFunction(\n",
              "                'suggestCharts', [key], {});\n",
              "          } catch (error) {\n",
              "            console.error('Error during call to suggestCharts:', error);\n",
              "          }\n",
              "          quickchartButtonEl.classList.remove('colab-df-spinner');\n",
              "          quickchartButtonEl.classList.add('colab-df-quickchart-complete');\n",
              "        }\n",
              "        (() => {\n",
              "          let quickchartButtonEl =\n",
              "            document.querySelector('#df-53c121eb-7e4f-4a27-919f-a448102c1f96 button');\n",
              "          quickchartButtonEl.style.display =\n",
              "            google.colab.kernel.accessAllowed ? 'block' : 'none';\n",
              "        })();\n",
              "      </script>\n",
              "    </div>\n",
              "\n",
              "  <div id=\"id_9998dc01-3d24-49cf-8112-a5143303275b\">\n",
              "    <style>\n",
              "      .colab-df-generate {\n",
              "        background-color: #E8F0FE;\n",
              "        border: none;\n",
              "        border-radius: 50%;\n",
              "        cursor: pointer;\n",
              "        display: none;\n",
              "        fill: #1967D2;\n",
              "        height: 32px;\n",
              "        padding: 0 0 0 0;\n",
              "        width: 32px;\n",
              "      }\n",
              "\n",
              "      .colab-df-generate:hover {\n",
              "        background-color: #E2EBFA;\n",
              "        box-shadow: 0px 1px 2px rgba(60, 64, 67, 0.3), 0px 1px 3px 1px rgba(60, 64, 67, 0.15);\n",
              "        fill: #174EA6;\n",
              "      }\n",
              "\n",
              "      [theme=dark] .colab-df-generate {\n",
              "        background-color: #3B4455;\n",
              "        fill: #D2E3FC;\n",
              "      }\n",
              "\n",
              "      [theme=dark] .colab-df-generate:hover {\n",
              "        background-color: #434B5C;\n",
              "        box-shadow: 0px 1px 3px 1px rgba(0, 0, 0, 0.15);\n",
              "        filter: drop-shadow(0px 1px 2px rgba(0, 0, 0, 0.3));\n",
              "        fill: #FFFFFF;\n",
              "      }\n",
              "    </style>\n",
              "    <button class=\"colab-df-generate\" onclick=\"generateWithVariable('resultados')\"\n",
              "            title=\"Generate code using this dataframe.\"\n",
              "            style=\"display:none;\">\n",
              "\n",
              "  <svg xmlns=\"http://www.w3.org/2000/svg\" height=\"24px\"viewBox=\"0 0 24 24\"\n",
              "       width=\"24px\">\n",
              "    <path d=\"M7,19H8.4L18.45,9,17,7.55,7,17.6ZM5,21V16.75L18.45,3.32a2,2,0,0,1,2.83,0l1.4,1.43a1.91,1.91,0,0,1,.58,1.4,1.91,1.91,0,0,1-.58,1.4L9.25,21ZM18.45,9,17,7.55Zm-12,3A5.31,5.31,0,0,0,4.9,8.1,5.31,5.31,0,0,0,1,6.5,5.31,5.31,0,0,0,4.9,4.9,5.31,5.31,0,0,0,6.5,1,5.31,5.31,0,0,0,8.1,4.9,5.31,5.31,0,0,0,12,6.5,5.46,5.46,0,0,0,6.5,12Z\"/>\n",
              "  </svg>\n",
              "    </button>\n",
              "    <script>\n",
              "      (() => {\n",
              "      const buttonEl =\n",
              "        document.querySelector('#id_9998dc01-3d24-49cf-8112-a5143303275b button.colab-df-generate');\n",
              "      buttonEl.style.display =\n",
              "        google.colab.kernel.accessAllowed ? 'block' : 'none';\n",
              "\n",
              "      buttonEl.onclick = () => {\n",
              "        google.colab.notebook.generateWithVariable('resultados');\n",
              "      }\n",
              "      })();\n",
              "    </script>\n",
              "  </div>\n",
              "\n",
              "    </div>\n",
              "  </div>\n"
            ],
            "application/vnd.google.colaboratory.intrinsic+json": {
              "type": "dataframe",
              "variable_name": "resultados",
              "summary": "{\n  \"name\": \"resultados\",\n  \"rows\": 2,\n  \"fields\": [\n    {\n      \"column\": \"Modelo\",\n      \"properties\": {\n        \"dtype\": \"string\",\n        \"num_unique_values\": 2,\n        \"samples\": [\n          \"Regresi\\u00f3n Huber\",\n          \"Regresi\\u00f3n Lineal\"\n        ],\n        \"semantic_type\": \"\",\n        \"description\": \"\"\n      }\n    },\n    {\n      \"column\": \"MSE\",\n      \"properties\": {\n        \"dtype\": \"number\",\n        \"std\": 156823931453.90344,\n        \"min\": 507169837915.0673,\n        \"max\": 728952368681.8462,\n        \"num_unique_values\": 2,\n        \"samples\": [\n          728952368681.8462,\n          507169837915.0673\n        ],\n        \"semantic_type\": \"\",\n        \"description\": \"\"\n      }\n    },\n    {\n      \"column\": \"MAE\",\n      \"properties\": {\n        \"dtype\": \"number\",\n        \"std\": 49896.16551513152,\n        \"min\": 65903.65465165892,\n        \"max\": 136467.48863357064,\n        \"num_unique_values\": 2,\n        \"samples\": [\n          65903.65465165892,\n          136467.48863357064\n        ],\n        \"semantic_type\": \"\",\n        \"description\": \"\"\n      }\n    },\n    {\n      \"column\": \"R\\u00b2\",\n      \"properties\": {\n        \"dtype\": \"number\",\n        \"std\": 0.06550491488546017,\n        \"min\": 0.695518646781952,\n        \"max\": 0.788156585815065,\n        \"num_unique_values\": 2,\n        \"samples\": [\n          0.695518646781952,\n          0.788156585815065\n        ],\n        \"semantic_type\": \"\",\n        \"description\": \"\"\n      }\n    }\n  ]\n}"
            }
          },
          "metadata": {}
        }
      ]
    },
    {
      "cell_type": "markdown",
      "source": [
        "* Gráfico de dispersión: predicción vs valor real"
      ],
      "metadata": {
        "id": "_4yRbPKb_a3u"
      }
    },
    {
      "cell_type": "code",
      "source": [
        "# -----------------------------\n",
        "#  Visualización de predicciones\n",
        "# -----------------------------\n",
        "plt.figure(figsize=(14, 5))\n",
        "\n",
        "# Lineal\n",
        "plt.subplot(1, 2, 1)\n",
        "sns.scatterplot(x=y_test, y=y_pred_lineal, alpha=0.5)\n",
        "plt.title(\"Regresión Lineal: y_real vs y_predicho\")\n",
        "plt.xlabel(\"Precio Real\")\n",
        "plt.ylabel(\"Precio Predicho\")\n",
        "plt.plot([y_test.min(), y_test.max()], [y_test.min(), y_test.max()], '--', color='red')\n",
        "\n",
        "# Huber\n",
        "plt.subplot(1, 2, 2)\n",
        "sns.scatterplot(x=y_test, y=y_pred_huber, alpha=0.5)\n",
        "plt.title(\"Regresión Huber: y_real vs y_predicho\")\n",
        "plt.xlabel(\"Precio Real\")\n",
        "plt.ylabel(\"Precio Predicho\")\n",
        "plt.plot([y_test.min(), y_test.max()], [y_test.min(), y_test.max()], '--', color='red')\n",
        "\n",
        "plt.tight_layout()\n",
        "plt.show()\n"
      ],
      "metadata": {
        "colab": {
          "base_uri": "https://localhost:8080/",
          "height": 465
        },
        "id": "-UfOKJ_o_eKG",
        "outputId": "056ec86c-4a9d-4a70-9f45-0b5035073bf4"
      },
      "execution_count": 40,
      "outputs": [
        {
          "output_type": "display_data",
          "data": {
            "text/plain": [
              "<Figure size 1400x500 with 2 Axes>"
            ],
            "image/png": "[encoded data removed]"
          },
          "metadata": {}
        }
      ]
    },
    {
      "cell_type": "markdown",
      "source": [
        "# Paso 9: Resumen ejecutivo final"
      ],
      "metadata": {
        "id": "KNpai_zO_s24"
      }
    },
    {
      "cell_type": "markdown",
      "source": [
        "\n",
        "Con el objetivo de predecir el precio de propiedades a partir de sus características estructurales y energéticas, se desarrolló un modelo de regresión sobre el dataset proporcionado. El proceso incluyó limpieza de datos, imputación de valores faltantes, detección y corrección de outliers, análisis de correlaciones y escalado de variables numéricas. A partir del análisis exploratorio, se seleccionaron las variables más influyentes y se evaluaron dos modelos: regresión lineal como base interpretativa, y regresión de Huber como alternativa robusta.\n",
        "\n",
        "La regresión lineal obtuvo un coeficiente de determinación R² de **0.788** y un error absoluto medio (MAE) de **136,467**, lo que indica una buena capacidad explicativa del modelo. En cambio, la regresión de Huber logró un MAE significativamente menor de **65,904**, aunque con un R² más bajo de **0.696**. Si bien el modelo de Huber es más preciso frente a valores extremos, el modelo lineal es más interpretativo y globalmente explicativo.\n",
        "\n",
        "Se recomienda su uso complementario según el contexto del análisis: interpretabilidad vs. precisión puntual.\n"
      ],
      "metadata": {
        "id": "dHP9YmKE_xY_"
      }
    }
  ]
}