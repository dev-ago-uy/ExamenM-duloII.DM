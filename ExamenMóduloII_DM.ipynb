{
  "nbformat": 4,
  "nbformat_minor": 0,
  "metadata": {
    "colab": {
      "provenance": [],
      "toc_visible": true,
      "authorship_tag": "ABX9TyMOw4eYd4W3n3n9J9k+kDxW",
      "include_colab_link": true
    },
    "kernelspec": {
      "name": "python3",
      "display_name": "Python 3"
    },
    "language_info": {
      "name": "python"
    }
  },
  "cells": [
    {
      "cell_type": "markdown",
      "metadata": {
        "id": "view-in-github",
        "colab_type": "text"
      },
      "source": [
        "<a href=\"https://colab.research.google.com/github/dev-ago-uy/ExamenM-duloII.DM/blob/main/ExamenM%C3%B3duloII_DM.ipynb\" target=\"_parent\"><img src=\"https://colab.research.google.com/assets/colab-badge.svg\" alt=\"Open In Colab\"/></a>"
      ]
    },
    {
      "cell_type": "markdown",
      "source": [
        "# Autor\n",
        "\n",
        "Ing. Daniel Mendiola\n",
        "\n",
        "\n",
        "\n",
        "**Objetivo**\n",
        "\n",
        "Predecir el precio de casas utilizando un dataset provisto (disponible en GitHub). Aunque el dataset original contiene imágenes, no es necesario utilizarlas para este examen.\n",
        "\n",
        "Fecha: Junio 2025"
      ],
      "metadata": {
        "id": "brlpfWPWloay"
      }
    },
    {
      "cell_type": "markdown",
      "source": [
        "# Datos\n",
        "\n",
        "x : https://raw.githubusercontent.com/AnIsAsPe/WA_ModuloII_DatosExamen/refs/heads/main/Datos/X.csv\n",
        "\n",
        "y : https://raw.githubusercontent.com/AnIsAsPe/WA_ModuloII_DatosExamen/refs/heads/main/Datos/y.csv\n",
        "\n",
        "\n"
      ],
      "metadata": {
        "id": "qBs0B71-opR9"
      }
    },
    {
      "cell_type": "markdown",
      "source": [
        "# Contexto general\n",
        "\n"
      ],
      "metadata": {
        "id": "5yvTsNPjr2d-"
      }
    },
    {
      "cell_type": "markdown",
      "source": [
        "# Paso 1: Carga de librerías y configuración"
      ],
      "metadata": {
        "id": "taGaR7LPw5zs"
      }
    },
    {
      "cell_type": "code",
      "source": [
        "import pandas as pd\n",
        "import numpy as np\n",
        "import matplotlib.pyplot as plt\n",
        "import seaborn as sns\n",
        "\n",
        "from sklearn.linear_model import LinearRegression, HuberRegressor\n",
        "from sklearn.preprocessing import StandardScaler, PolynomialFeatures\n",
        "from sklearn.metrics import mean_squared_error, mean_absolute_error, r2_score\n",
        "from sklearn.model_selection import train_test_split\n",
        "from sklearn.impute import SimpleImputer\n",
        "\n",
        "import warnings\n",
        "warnings.filterwarnings('ignore')\n",
        "\n",
        "# Solo esta línea es suficiente para el estilo visual\n",
        "sns.set_theme(style=\"whitegrid\")\n"
      ],
      "metadata": {
        "id": "kC98f1IUu2uX"
      },
      "execution_count": 3,
      "outputs": []
    },
    {
      "cell_type": "markdown",
      "source": [
        "# Explicación rápida\n",
        "\n",
        " Librería                 Propósito      \n",
        "\n",
        " *pandas, numpy*        :    Manipulación de datos                  \n",
        " *matplotlib, seaborn* :    Gráficas                               \n",
        " *sklearn.linear_model* :   Modelos de regresión                   \n",
        " *sklearn.preprocessing*:   Escalado y features polinomiales       \n",
        " *sklearn.metrics*      :   Métricas de evaluación                 \n",
        " *train_test_split*     :   División en entrenamiento y validación\n",
        " *SimpleImputer*        :   Imputación de valores faltantes        \n"
      ],
      "metadata": {
        "id": "jTKpXeysu2LJ"
      }
    },
    {
      "cell_type": "markdown",
      "source": [
        "# Paso 2: Carga de los datos y exploración"
      ],
      "metadata": {
        "id": "UyJ-6Asaw-Fq"
      }
    },
    {
      "cell_type": "code",
      "source": [
        "# -----------------------------\n",
        "# 🔽 Cargar datos desde GitHub\n",
        "# -----------------------------\n",
        "\n",
        "# URLs de los datasets\n",
        "url_x = \"https://raw.githubusercontent.com/AnIsAsPe/WA_ModuloII_DatosExamen/refs/heads/main/Datos/X.csv\"\n",
        "url_y = \"https://raw.githubusercontent.com/AnIsAsPe/WA_ModuloII_DatosExamen/refs/heads/main/Datos/y.csv\"\n",
        "\n",
        "# Lectura de datos\n",
        "X = pd.read_csv(url_x)\n",
        "y = pd.read_csv(url_y)\n",
        "\n",
        "# Mostrar las dimensiones\n",
        "print(\"Dimensiones de X:\", X.shape)\n",
        "print(\"Dimensiones de y:\", y.shape)\n"
      ],
      "metadata": {
        "colab": {
          "base_uri": "https://localhost:8080/"
        },
        "id": "I3hGi6pxxG-j",
        "outputId": "8209f564-ab89-4e6d-b250-6c5b3e633ca5"
      },
      "execution_count": 4,
      "outputs": [
        {
          "output_type": "stream",
          "name": "stdout",
          "text": [
            "Dimensiones de X: (37368, 27)\n",
            "Dimensiones de y: (37368, 2)\n"
          ]
        }
      ]
    },
    {
      "cell_type": "markdown",
      "source": [
        "# Paso 3: Limpieza y preprocesamiento"
      ],
      "metadata": {
        "id": "IeTBnmrPyZAG"
      }
    },
    {
      "cell_type": "markdown",
      "source": [
        "\n",
        "\n",
        "*   3.1. Detección de valores faltantes\n",
        "\n"
      ],
      "metadata": {
        "id": "uSiW-KrNyk10"
      }
    },
    {
      "cell_type": "code",
      "source": [
        "# -----------------------------\n",
        "# 🔍 Valores nulos\n",
        "# -----------------------------\n",
        "print(\"Valores nulos por columna:\")\n",
        "missing = X.isnull().sum()\n",
        "missing = missing[missing > 0].sort_values(ascending=False)\n",
        "display(missing)\n"
      ],
      "metadata": {
        "colab": {
          "base_uri": "https://localhost:8080/",
          "height": 447
        },
        "id": "nLQR5YL9yexO",
        "outputId": "ef01c579-30a8-480d-8885-6cf92f1190e9"
      },
      "execution_count": 6,
      "outputs": [
        {
          "output_type": "stream",
          "name": "stdout",
          "text": [
            "Valores nulos por columna:\n"
          ]
        },
        {
          "output_type": "display_data",
          "data": {
            "text/plain": [
              "exposition                     28274\n",
              "floor                          27625\n",
              "land_size                      21787\n",
              "ghg_value                      18838\n",
              "ghg_category                   18838\n",
              "energy_performance_value       18300\n",
              "energy_performance_category    18300\n",
              "nb_bathrooms                   13273\n",
              "nb_bedrooms                     2733\n",
              "nb_rooms                        1566\n",
              "size                             512\n",
              "dtype: int64"
            ],
            "text/html": [
              "<div>\n",
              "<style scoped>\n",
              "    .dataframe tbody tr th:only-of-type {\n",
              "        vertical-align: middle;\n",
              "    }\n",
              "\n",
              "    .dataframe tbody tr th {\n",
              "        vertical-align: top;\n",
              "    }\n",
              "\n",
              "    .dataframe thead th {\n",
              "        text-align: right;\n",
              "    }\n",
              "</style>\n",
              "<table border=\"1\" class=\"dataframe\">\n",
              "  <thead>\n",
              "    <tr style=\"text-align: right;\">\n",
              "      <th></th>\n",
              "      <th>0</th>\n",
              "    </tr>\n",
              "  </thead>\n",
              "  <tbody>\n",
              "    <tr>\n",
              "      <th>exposition</th>\n",
              "      <td>28274</td>\n",
              "    </tr>\n",
              "    <tr>\n",
              "      <th>floor</th>\n",
              "      <td>27625</td>\n",
              "    </tr>\n",
              "    <tr>\n",
              "      <th>land_size</th>\n",
              "      <td>21787</td>\n",
              "    </tr>\n",
              "    <tr>\n",
              "      <th>ghg_value</th>\n",
              "      <td>18838</td>\n",
              "    </tr>\n",
              "    <tr>\n",
              "      <th>ghg_category</th>\n",
              "      <td>18838</td>\n",
              "    </tr>\n",
              "    <tr>\n",
              "      <th>energy_performance_value</th>\n",
              "      <td>18300</td>\n",
              "    </tr>\n",
              "    <tr>\n",
              "      <th>energy_performance_category</th>\n",
              "      <td>18300</td>\n",
              "    </tr>\n",
              "    <tr>\n",
              "      <th>nb_bathrooms</th>\n",
              "      <td>13273</td>\n",
              "    </tr>\n",
              "    <tr>\n",
              "      <th>nb_bedrooms</th>\n",
              "      <td>2733</td>\n",
              "    </tr>\n",
              "    <tr>\n",
              "      <th>nb_rooms</th>\n",
              "      <td>1566</td>\n",
              "    </tr>\n",
              "    <tr>\n",
              "      <th>size</th>\n",
              "      <td>512</td>\n",
              "    </tr>\n",
              "  </tbody>\n",
              "</table>\n",
              "</div><br><label><b>dtype:</b> int64</label>"
            ]
          },
          "metadata": {}
        }
      ]
    },
    {
      "cell_type": "markdown",
      "source": [
        "* 3.2. Imputación de valores faltantes\n",
        "\n",
        "Usamos SimpleImputer para completar valores:\n",
        "\n",
        "\n",
        "\n",
        "1.  Media: para variables numéricas (sin sesgo fuerte)\n",
        "2.  Mediana: para variables con curtosis o skewness\n",
        "3.  Moda: para variables categóricas"
      ],
      "metadata": {
        "id": "mg71Jgfcyv1T"
      }
    },
    {
      "cell_type": "code",
      "source": [
        "# -----------------------------\n",
        "#  Imputación básica de valores nulos\n",
        "# -----------------------------\n",
        "\n",
        "# Definimos imputador numérico\n",
        "imputer = SimpleImputer(strategy='median')\n",
        "\n",
        "# Aplicamos solo a columnas numéricas\n",
        "X_imputed = X.copy()\n",
        "numeric_cols = X.select_dtypes(include=[np.number]).columns\n",
        "X_imputed[numeric_cols] = imputer.fit_transform(X[numeric_cols])\n"
      ],
      "metadata": {
        "id": "jAZkjWlQyzk6"
      },
      "execution_count": 8,
      "outputs": []
    },
    {
      "cell_type": "markdown",
      "source": [
        "* 3.3. Detección de outliers (Z-score)\n",
        "\n",
        "Usamos la regla del Z-score > 3 como indicador simple"
      ],
      "metadata": {
        "id": "lWxSLIpuzuI7"
      }
    },
    {
      "cell_type": "code",
      "source": [
        "from scipy.stats import zscore\n",
        "\n",
        "# Cálculo de Z-score\n",
        "z_scores = np.abs(zscore(X_imputed[numeric_cols]))\n",
        "outliers = (z_scores > 3).sum(axis=0)\n",
        "\n",
        "# Mostrar variables más afectadas\n",
        "print(\"Variables con más posibles outliers:\")\n",
        "display(pd.Series(outliers, index=numeric_cols).sort_values(ascending=False))\n"
      ],
      "metadata": {
        "colab": {
          "base_uri": "https://localhost:8080/",
          "height": 792
        },
        "id": "FW2C3Q_Lz0kD",
        "outputId": "5c33df07-0e94-4b20-9aeb-db328e395a85"
      },
      "execution_count": 9,
      "outputs": [
        {
          "output_type": "stream",
          "name": "stdout",
          "text": [
            "Variables con más posibles outliers:\n"
          ]
        },
        {
          "output_type": "display_data",
          "data": {
            "text/plain": [
              "has_a_garage                2013\n",
              "nb_bathrooms                1915\n",
              "has_air_conditioning        1489\n",
              "id_annonce                   625\n",
              "nb_rooms                     359\n",
              "nb_photos                    312\n",
              "nb_bedrooms                  296\n",
              "floor                        184\n",
              "size                         168\n",
              "last_floor                   143\n",
              "land_size                     75\n",
              "energy_performance_value      24\n",
              "ghg_value                     15\n",
              "upper_floors                   9\n",
              "approximate_longitude          0\n",
              "postal_code                    0\n",
              "approximate_latitude           0\n",
              "nb_parking_places              0\n",
              "nb_boxes                       0\n",
              "has_a_cellar                   0\n",
              "has_a_balcony                  0\n",
              "nb_terraces                    0\n",
              "dtype: int64"
            ],
            "text/html": [
              "<div>\n",
              "<style scoped>\n",
              "    .dataframe tbody tr th:only-of-type {\n",
              "        vertical-align: middle;\n",
              "    }\n",
              "\n",
              "    .dataframe tbody tr th {\n",
              "        vertical-align: top;\n",
              "    }\n",
              "\n",
              "    .dataframe thead th {\n",
              "        text-align: right;\n",
              "    }\n",
              "</style>\n",
              "<table border=\"1\" class=\"dataframe\">\n",
              "  <thead>\n",
              "    <tr style=\"text-align: right;\">\n",
              "      <th></th>\n",
              "      <th>0</th>\n",
              "    </tr>\n",
              "  </thead>\n",
              "  <tbody>\n",
              "    <tr>\n",
              "      <th>has_a_garage</th>\n",
              "      <td>2013</td>\n",
              "    </tr>\n",
              "    <tr>\n",
              "      <th>nb_bathrooms</th>\n",
              "      <td>1915</td>\n",
              "    </tr>\n",
              "    <tr>\n",
              "      <th>has_air_conditioning</th>\n",
              "      <td>1489</td>\n",
              "    </tr>\n",
              "    <tr>\n",
              "      <th>id_annonce</th>\n",
              "      <td>625</td>\n",
              "    </tr>\n",
              "    <tr>\n",
              "      <th>nb_rooms</th>\n",
              "      <td>359</td>\n",
              "    </tr>\n",
              "    <tr>\n",
              "      <th>nb_photos</th>\n",
              "      <td>312</td>\n",
              "    </tr>\n",
              "    <tr>\n",
              "      <th>nb_bedrooms</th>\n",
              "      <td>296</td>\n",
              "    </tr>\n",
              "    <tr>\n",
              "      <th>floor</th>\n",
              "      <td>184</td>\n",
              "    </tr>\n",
              "    <tr>\n",
              "      <th>size</th>\n",
              "      <td>168</td>\n",
              "    </tr>\n",
              "    <tr>\n",
              "      <th>last_floor</th>\n",
              "      <td>143</td>\n",
              "    </tr>\n",
              "    <tr>\n",
              "      <th>land_size</th>\n",
              "      <td>75</td>\n",
              "    </tr>\n",
              "    <tr>\n",
              "      <th>energy_performance_value</th>\n",
              "      <td>24</td>\n",
              "    </tr>\n",
              "    <tr>\n",
              "      <th>ghg_value</th>\n",
              "      <td>15</td>\n",
              "    </tr>\n",
              "    <tr>\n",
              "      <th>upper_floors</th>\n",
              "      <td>9</td>\n",
              "    </tr>\n",
              "    <tr>\n",
              "      <th>approximate_longitude</th>\n",
              "      <td>0</td>\n",
              "    </tr>\n",
              "    <tr>\n",
              "      <th>postal_code</th>\n",
              "      <td>0</td>\n",
              "    </tr>\n",
              "    <tr>\n",
              "      <th>approximate_latitude</th>\n",
              "      <td>0</td>\n",
              "    </tr>\n",
              "    <tr>\n",
              "      <th>nb_parking_places</th>\n",
              "      <td>0</td>\n",
              "    </tr>\n",
              "    <tr>\n",
              "      <th>nb_boxes</th>\n",
              "      <td>0</td>\n",
              "    </tr>\n",
              "    <tr>\n",
              "      <th>has_a_cellar</th>\n",
              "      <td>0</td>\n",
              "    </tr>\n",
              "    <tr>\n",
              "      <th>has_a_balcony</th>\n",
              "      <td>0</td>\n",
              "    </tr>\n",
              "    <tr>\n",
              "      <th>nb_terraces</th>\n",
              "      <td>0</td>\n",
              "    </tr>\n",
              "  </tbody>\n",
              "</table>\n",
              "</div><br><label><b>dtype:</b> int64</label>"
            ]
          },
          "metadata": {}
        }
      ]
    },
    {
      "cell_type": "markdown",
      "source": [
        "* 3.4. Opcional: eliminar o winsorizar outliers\n",
        "\n",
        "Podemos reemplazar los valores extremos por los percentiles 5-95 o eliminarlos."
      ],
      "metadata": {
        "id": "7kD2Fibuz-Hz"
      }
    },
    {
      "cell_type": "code",
      "source": [
        "# Winsorización por percentil 1% y 99%\n",
        "for col in numeric_cols:\n",
        "    lower = X_imputed[col].quantile(0.01)\n",
        "    upper = X_imputed[col].quantile(0.99)\n",
        "    X_imputed[col] = np.clip(X_imputed[col], lower, upper)\n"
      ],
      "metadata": {
        "id": "RqMPMtRu0EtE"
      },
      "execution_count": 13,
      "outputs": []
    },
    {
      "cell_type": "markdown",
      "source": [
        "# Paso 4: EDA y correlaciones"
      ],
      "metadata": {
        "id": "yij6tJhZ15kM"
      }
    },
    {
      "cell_type": "markdown",
      "source": [
        "* 4.1. Distribución del target (y)"
      ],
      "metadata": {
        "id": "amrWxted1-Be"
      }
    },
    {
      "cell_type": "code",
      "source": [
        "# -----------------------------\n",
        "# Distribución del precio\n",
        "# -----------------------------\n",
        "plt.figure(figsize=(8, 4))\n",
        "sns.histplot(y, kde=True, bins=40)\n",
        "plt.title(\"Distribución del Precio\")\n",
        "plt.xlabel(\"Precio\")\n",
        "plt.ylabel(\"Frecuencia\")\n",
        "plt.show()\n",
        "\n",
        "print(\"Curtosis:\", y.kurtosis())\n",
        "print(\"Skewness:\", y.skew())\n"
      ],
      "metadata": {
        "colab": {
          "base_uri": "https://localhost:8080/",
          "height": 528
        },
        "id": "6ZDuYxEj2AaF",
        "outputId": "6574a963-a8f9-488c-8b52-ca2c11f7ee7a"
      },
      "execution_count": 14,
      "outputs": [
        {
          "output_type": "display_data",
          "data": {
            "text/plain": [
              "<Figure size 800x400 with 1 Axes>"
            ],
            "image/png": "[encoded data removed]"
          },
          "metadata": {}
        },
        {
          "output_type": "stream",
          "name": "stdout",
          "text": [
            "Curtosis: id_annonce    113.931897\n",
            "price           8.329033\n",
            "dtype: float64\n",
            "Skewness: id_annonce   -9.730898\n",
            "price         2.518761\n",
            "dtype: float64\n"
          ]
        }
      ]
    },
    {
      "cell_type": "markdown",
      "source": [
        "* 4.2. Matriz de correlaciones"
      ],
      "metadata": {
        "id": "ehOCiNKx2I7o"
      }
    },
    {
      "cell_type": "code",
      "source": [
        "# -----------------------------\n",
        "# 🔗 Correlación con el target\n",
        "# -----------------------------\n",
        "# Unimos X con y temporalmente para correlacionar\n",
        "df_corr = X_imputed.copy()\n",
        "df_corr[\"precio\"] = y\n",
        "\n",
        "# Calcular correlaciones\n",
        "corr_matrix = df_corr.corr()\n",
        "\n",
        "# Correlaciones más fuertes con el precio\n",
        "correlaciones_target = corr_matrix[\"precio\"].drop(\"precio\").sort_values(ascending=False)\n",
        "display(correlaciones_target.head(10))  # Top positivas\n",
        "display(correlaciones_target.tail(10))  # Top negativas\n"
      ],
      "metadata": {
        "id": "qawlaVKM2PGw"
      },
      "execution_count": null,
      "outputs": []
    }
  ]
}