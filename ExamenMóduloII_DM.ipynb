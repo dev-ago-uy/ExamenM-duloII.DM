{
  "nbformat": 4,
  "nbformat_minor": 0,
  "metadata": {
    "colab": {
      "provenance": [],
      "toc_visible": true,
      "authorship_tag": "ABX9TyMMClwe0haM7ucUUxl8+nda",
      "include_colab_link": true
    },
    "kernelspec": {
      "name": "python3",
      "display_name": "Python 3"
    },
    "language_info": {
      "name": "python"
    }
  },
  "cells": [
    {
      "cell_type": "markdown",
      "metadata": {
        "id": "view-in-github",
        "colab_type": "text"
      },
      "source": [
        "<a href=\"https://colab.research.google.com/github/dev-ago-uy/ExamenM-duloII.DM/blob/main/ExamenM%C3%B3duloII_DM.ipynb\" target=\"_parent\"><img src=\"https://colab.research.google.com/assets/colab-badge.svg\" alt=\"Open In Colab\"/></a>"
      ]
    },
    {
      "cell_type": "markdown",
      "source": [
        "# Autor\n",
        "\n",
        "Ing. Daniel Mendiola\n",
        "\n",
        "\n",
        "\n",
        "**Objetivo**\n",
        "\n",
        "Predecir el precio de casas utilizando un dataset provisto (disponible en GitHub). Aunque el dataset original contiene imágenes, no es necesario utilizarlas para este examen.\n",
        "\n",
        "Fecha: Junio 2025"
      ],
      "metadata": {
        "id": "brlpfWPWloay"
      }
    },
    {
      "cell_type": "markdown",
      "source": [
        "# Datos\n",
        "\n",
        "x : https://raw.githubusercontent.com/AnIsAsPe/WA_ModuloII_DatosExamen/refs/heads/main/Datos/X.csv\n",
        "\n",
        "y : https://raw.githubusercontent.com/AnIsAsPe/WA_ModuloII_DatosExamen/refs/heads/main/Datos/y.csv\n",
        "\n",
        "\n"
      ],
      "metadata": {
        "id": "qBs0B71-opR9"
      }
    },
    {
      "cell_type": "markdown",
      "source": [
        "# Contexto general\n",
        "\n"
      ],
      "metadata": {
        "id": "5yvTsNPjr2d-"
      }
    },
    {
      "cell_type": "markdown",
      "source": [
        "# Paso 1: Carga de librerías y configuración"
      ],
      "metadata": {
        "id": "taGaR7LPw5zs"
      }
    },
    {
      "cell_type": "code",
      "source": [
        "import pandas as pd\n",
        "import numpy as np\n",
        "import matplotlib.pyplot as plt\n",
        "import seaborn as sns\n",
        "\n",
        "from sklearn.linear_model import LinearRegression, HuberRegressor\n",
        "from sklearn.preprocessing import StandardScaler, PolynomialFeatures\n",
        "from sklearn.metrics import mean_squared_error, mean_absolute_error, r2_score\n",
        "from sklearn.model_selection import train_test_split\n",
        "from sklearn.impute import SimpleImputer\n",
        "\n",
        "import warnings\n",
        "warnings.filterwarnings('ignore')\n",
        "\n",
        "# Solo esta línea es suficiente para el estilo visual\n",
        "sns.set_theme(style=\"whitegrid\")\n"
      ],
      "metadata": {
        "id": "kC98f1IUu2uX"
      },
      "execution_count": 3,
      "outputs": []
    },
    {
      "cell_type": "markdown",
      "source": [
        "# Explicación rápida\n",
        "\n",
        " Librería                 Propósito      \n",
        "\n",
        " *pandas, numpy*        :    Manipulación de datos                  \n",
        " *matplotlib, seaborn* :    Gráficas                               \n",
        " *sklearn.linear_model* :   Modelos de regresión                   \n",
        " *sklearn.preprocessing*:   Escalado y features polinomiales       \n",
        " *sklearn.metrics*      :   Métricas de evaluación                 \n",
        " *train_test_split*     :   División en entrenamiento y validación\n",
        " *SimpleImputer*        :   Imputación de valores faltantes        \n"
      ],
      "metadata": {
        "id": "jTKpXeysu2LJ"
      }
    },
    {
      "cell_type": "markdown",
      "source": [
        "# Paso 2: Carga de los datos y exploración"
      ],
      "metadata": {
        "id": "UyJ-6Asaw-Fq"
      }
    },
    {
      "cell_type": "code",
      "source": [
        "# -----------------------------\n",
        "# 🔽 Cargar datos desde GitHub\n",
        "# -----------------------------\n",
        "\n",
        "# URLs de los datasets\n",
        "url_x = \"https://raw.githubusercontent.com/AnIsAsPe/WA_ModuloII_DatosExamen/refs/heads/main/Datos/X.csv\"\n",
        "url_y = \"https://raw.githubusercontent.com/AnIsAsPe/WA_ModuloII_DatosExamen/refs/heads/main/Datos/y.csv\"\n",
        "\n",
        "# Lectura de datos\n",
        "X = pd.read_csv(url_x)\n",
        "y = pd.read_csv(url_y)\n",
        "\n",
        "# Mostrar las dimensiones\n",
        "print(\"Dimensiones de X:\", X.shape)\n",
        "print(\"Dimensiones de y:\", y.shape)\n"
      ],
      "metadata": {
        "colab": {
          "base_uri": "https://localhost:8080/"
        },
        "id": "I3hGi6pxxG-j",
        "outputId": "8209f564-ab89-4e6d-b250-6c5b3e633ca5"
      },
      "execution_count": 4,
      "outputs": [
        {
          "output_type": "stream",
          "name": "stdout",
          "text": [
            "Dimensiones de X: (37368, 27)\n",
            "Dimensiones de y: (37368, 2)\n"
          ]
        }
      ]
    },
    {
      "cell_type": "markdown",
      "source": [
        "# Paso 3: Limpieza y preprocesamiento"
      ],
      "metadata": {
        "id": "IeTBnmrPyZAG"
      }
    },
    {
      "cell_type": "markdown",
      "source": [
        "\n",
        "\n",
        "*   3.1. Detección de valores faltantes\n",
        "\n"
      ],
      "metadata": {
        "id": "uSiW-KrNyk10"
      }
    },
    {
      "cell_type": "code",
      "source": [
        "# -----------------------------\n",
        "# 🔍 Valores nulos\n",
        "# -----------------------------\n",
        "print(\"Valores nulos por columna:\")\n",
        "missing = X.isnull().sum()\n",
        "missing = missing[missing > 0].sort_values(ascending=False)\n",
        "display(missing)\n"
      ],
      "metadata": {
        "colab": {
          "base_uri": "https://localhost:8080/",
          "height": 447
        },
        "id": "nLQR5YL9yexO",
        "outputId": "3195dfce-b913-469b-e626-a8dbea9df7bc"
      },
      "execution_count": 5,
      "outputs": [
        {
          "output_type": "stream",
          "name": "stdout",
          "text": [
            "Valores nulos por columna:\n"
          ]
        },
        {
          "output_type": "display_data",
          "data": {
            "text/plain": [
              "exposition                     28274\n",
              "floor                          27625\n",
              "land_size                      21787\n",
              "ghg_value                      18838\n",
              "ghg_category                   18838\n",
              "energy_performance_value       18300\n",
              "energy_performance_category    18300\n",
              "nb_bathrooms                   13273\n",
              "nb_bedrooms                     2733\n",
              "nb_rooms                        1566\n",
              "size                             512\n",
              "dtype: int64"
            ],
            "text/html": [
              "<div>\n",
              "<style scoped>\n",
              "    .dataframe tbody tr th:only-of-type {\n",
              "        vertical-align: middle;\n",
              "    }\n",
              "\n",
              "    .dataframe tbody tr th {\n",
              "        vertical-align: top;\n",
              "    }\n",
              "\n",
              "    .dataframe thead th {\n",
              "        text-align: right;\n",
              "    }\n",
              "</style>\n",
              "<table border=\"1\" class=\"dataframe\">\n",
              "  <thead>\n",
              "    <tr style=\"text-align: right;\">\n",
              "      <th></th>\n",
              "      <th>0</th>\n",
              "    </tr>\n",
              "  </thead>\n",
              "  <tbody>\n",
              "    <tr>\n",
              "      <th>exposition</th>\n",
              "      <td>28274</td>\n",
              "    </tr>\n",
              "    <tr>\n",
              "      <th>floor</th>\n",
              "      <td>27625</td>\n",
              "    </tr>\n",
              "    <tr>\n",
              "      <th>land_size</th>\n",
              "      <td>21787</td>\n",
              "    </tr>\n",
              "    <tr>\n",
              "      <th>ghg_value</th>\n",
              "      <td>18838</td>\n",
              "    </tr>\n",
              "    <tr>\n",
              "      <th>ghg_category</th>\n",
              "      <td>18838</td>\n",
              "    </tr>\n",
              "    <tr>\n",
              "      <th>energy_performance_value</th>\n",
              "      <td>18300</td>\n",
              "    </tr>\n",
              "    <tr>\n",
              "      <th>energy_performance_category</th>\n",
              "      <td>18300</td>\n",
              "    </tr>\n",
              "    <tr>\n",
              "      <th>nb_bathrooms</th>\n",
              "      <td>13273</td>\n",
              "    </tr>\n",
              "    <tr>\n",
              "      <th>nb_bedrooms</th>\n",
              "      <td>2733</td>\n",
              "    </tr>\n",
              "    <tr>\n",
              "      <th>nb_rooms</th>\n",
              "      <td>1566</td>\n",
              "    </tr>\n",
              "    <tr>\n",
              "      <th>size</th>\n",
              "      <td>512</td>\n",
              "    </tr>\n",
              "  </tbody>\n",
              "</table>\n",
              "</div><br><label><b>dtype:</b> int64</label>"
            ]
          },
          "metadata": {}
        }
      ]
    }
  ]
}