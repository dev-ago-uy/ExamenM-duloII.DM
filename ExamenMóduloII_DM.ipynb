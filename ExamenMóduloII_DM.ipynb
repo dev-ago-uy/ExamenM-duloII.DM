{
  "nbformat": 4,
  "nbformat_minor": 0,
  "metadata": {
    "colab": {
      "provenance": [],
      "toc_visible": true,
      "authorship_tag": "ABX9TyPYJ8QrEamETr6i26uqgmRu",
      "include_colab_link": true
    },
    "kernelspec": {
      "name": "python3",
      "display_name": "Python 3"
    },
    "language_info": {
      "name": "python"
    }
  },
  "cells": [
    {
      "cell_type": "markdown",
      "metadata": {
        "id": "view-in-github",
        "colab_type": "text"
      },
      "source": [
        "<a href=\"https://colab.research.google.com/github/dev-ago-uy/ExamenM-duloII.DM/blob/main/ExamenM%C3%B3duloII_DM.ipynb\" target=\"_parent\"><img src=\"https://colab.research.google.com/assets/colab-badge.svg\" alt=\"Open In Colab\"/></a>"
      ]
    },
    {
      "cell_type": "markdown",
      "source": [
        "# Autor\n",
        "\n",
        "Ing. Daniel Mendiola\n",
        "\n",
        "\n",
        "\n",
        "**Objetivo**\n",
        "\n",
        "Predecir el precio de casas utilizando un dataset provisto (disponible en GitHub). Aunque el dataset original contiene imágenes, no es necesario utilizarlas para este examen.\n",
        "\n",
        "Fecha: Junio 2025"
      ],
      "metadata": {
        "id": "brlpfWPWloay"
      }
    },
    {
      "cell_type": "markdown",
      "source": [
        "# Datos\n",
        "\n",
        "x : https://raw.githubusercontent.com/AnIsAsPe/WA_ModuloII_DatosExamen/refs/heads/main/Datos/X.csv\n",
        "\n",
        "y : https://raw.githubusercontent.com/AnIsAsPe/WA_ModuloII_DatosExamen/refs/heads/main/Datos/y.csv\n",
        "\n",
        "\n"
      ],
      "metadata": {
        "id": "qBs0B71-opR9"
      }
    },
    {
      "cell_type": "markdown",
      "source": [
        "# Contexto general\n",
        "\n"
      ],
      "metadata": {
        "id": "5yvTsNPjr2d-"
      }
    },
    {
      "cell_type": "markdown",
      "source": [
        "# Paso 1: Carga de librerías y configuración"
      ],
      "metadata": {
        "id": "taGaR7LPw5zs"
      }
    },
    {
      "cell_type": "code",
      "source": [
        "# -----------------------------\n",
        "# Carga de librerías necesarias\n",
        "# -----------------------------\n",
        "\n",
        "# Manipulación de datos\n",
        "import pandas as pd\n",
        "import numpy as np\n",
        "\n",
        "# Visualización\n",
        "import matplotlib.pyplot as plt\n",
        "import seaborn as sns\n",
        "\n",
        "# Modelado\n",
        "from sklearn.linear_model import LinearRegression, HuberRegressor\n",
        "from sklearn.preprocessing import StandardScaler, PolynomialFeatures\n",
        "from sklearn.metrics import mean_squared_error, mean_absolute_error, r2_score\n",
        "from sklearn.model_selection import train_test_split\n",
        "\n",
        "# Manejo de valores faltantes\n",
        "from sklearn.impute import SimpleImputer\n",
        "\n",
        "# Configuraciones generales\n",
        "import warnings\n",
        "warnings.filterwarnings('ignore')\n",
        "\n",
        "# Estilo visual\n",
        "plt.style.use('seaborn-vcolor')\n",
        "sns.set_theme(style=\"whitegrid\")\n"
      ],
      "metadata": {
        "id": "kC98f1IUu2uX"
      },
      "execution_count": null,
      "outputs": []
    },
    {
      "cell_type": "markdown",
      "source": [
        "# Explicación rápida\n",
        "\n",
        " Librería                 Propósito      \n",
        "\n",
        " *pandas, numpy*        :    Manipulación de datos                  \n",
        " *matplotlib, seaborn* :    Gráficas                               \n",
        " *sklearn.linear_model* :   Modelos de regresión                   \n",
        " *sklearn.preprocessing*:   Escalado y features polinomiales       \n",
        " *sklearn.metrics*      :   Métricas de evaluación                 \n",
        " *train_test_split*     :   División en entrenamiento y validación\n",
        " *SimpleImputer*        :   Imputación de valores faltantes        \n"
      ],
      "metadata": {
        "id": "jTKpXeysu2LJ"
      }
    },
    {
      "cell_type": "markdown",
      "source": [
        "# Paso 2: Carga de los datos y exploración"
      ],
      "metadata": {
        "id": "UyJ-6Asaw-Fq"
      }
    },
    {
      "cell_type": "code",
      "source": [
        "# -----------------------------\n",
        "# 🔽 Cargar datos desde GitHub\n",
        "# -----------------------------\n",
        "\n",
        "# URLs de los datasets\n",
        "url_x = \"https://raw.githubusercontent.com/AnIsAsPe/WA_ModuloII_DatosExamen/refs/heads/main/Datos/X.csv\"\n",
        "url_y = \"https://raw.githubusercontent.com/AnIsAsPe/WA_ModuloII_DatosExamen/refs/heads/main/Datos/y.csv\"\n",
        "\n",
        "# Lectura de datos\n",
        "X = pd.read_csv(url_x)\n",
        "y = pd.read_csv(url_y)\n",
        "\n",
        "# Mostrar las dimensiones\n",
        "print(\"Dimensiones de X:\", X.shape)\n",
        "print(\"Dimensiones de y:\", y.shape)\n"
      ],
      "metadata": {
        "id": "I3hGi6pxxG-j"
      },
      "execution_count": null,
      "outputs": []
    }
  ]
}